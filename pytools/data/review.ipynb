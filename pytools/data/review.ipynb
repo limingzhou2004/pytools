{
 "cells": [
  {
   "cell_type": "code",
   "execution_count": 2,
   "metadata": {},
   "outputs": [],
   "source": [
    "import pandas as pd"
   ]
  },
  {
   "cell_type": "code",
   "execution_count": null,
   "metadata": {},
   "outputs": [],
   "source": []
  },
  {
   "cell_type": "code",
   "execution_count": 7,
   "metadata": {},
   "outputs": [],
   "source": [
    "df=pd.read_pickle('grib2_folder_0.pkl')"
   ]
  },
  {
   "cell_type": "code",
   "execution_count": 13,
   "metadata": {},
   "outputs": [
    {
     "data": {
      "text/plain": [
       "filename           hrrrsub_2024_02_08_07F0.grib2\n",
       "folder            /Volumes/T7 Gray/hrrr_obs_2023\n",
       "type                                    hrrr_obs\n",
       "timestamp                    2024-02-08 07:00:00\n",
       "cplt_timestamp               2024-02-08 07:00:00\n",
       "Name: 53515, dtype: object"
      ]
     },
     "execution_count": 13,
     "metadata": {},
     "output_type": "execute_result"
    }
   ],
   "source": [
    "df.iloc[-6]"
   ]
  },
  {
   "cell_type": "markdown",
   "metadata": {},
   "source": [
    "## Test calendar"
   ]
  },
  {
   "cell_type": "code",
   "execution_count": 1,
   "metadata": {},
   "outputs": [],
   "source": [
    "import holidays\n",
    "import datetime as dt\n",
    "import pytz"
   ]
  },
  {
   "cell_type": "code",
   "execution_count": 3,
   "metadata": {},
   "outputs": [
    {
     "name": "stdout",
     "output_type": "stream",
     "text": [
      "2023-01-01 New Year's Day\n",
      "2023-01-02 New Year's Day (observed)\n",
      "2023-01-16 Martin Luther King Jr. Day\n",
      "2023-02-12 Lincoln's Birthday\n",
      "2023-02-13 Lincoln's Birthday (observed)\n",
      "2023-02-15 Susan B. Anthony Day\n",
      "2023-02-20 Washington's Birthday\n",
      "2023-05-29 Memorial Day\n",
      "2023-06-19 Juneteenth National Independence Day\n",
      "2023-07-04 Independence Day\n",
      "2023-09-04 Labor Day\n",
      "2023-10-09 Columbus Day\n",
      "2023-11-07 Election Day\n",
      "2023-11-10 Veterans Day (observed)\n",
      "2023-11-11 Veterans Day\n",
      "2023-11-23 Thanksgiving\n",
      "2023-12-25 Christmas Day\n"
     ]
    }
   ],
   "source": [
    "for date, name in sorted(holidays.US(subdiv='NY', years=2023).items()):\n",
    "    print(date, name)"
   ]
  },
  {
   "cell_type": "code",
   "execution_count": 10,
   "metadata": {},
   "outputs": [
    {
     "data": {
      "text/plain": [
       "True"
      ]
     },
     "execution_count": 10,
     "metadata": {},
     "output_type": "execute_result"
    }
   ],
   "source": [
    "h = holidays.US(subdiv='NY', years=2023)\n",
    "dt.date(2023,1,2) in h\n",
    "\n"
   ]
  },
  {
   "cell_type": "code",
   "execution_count": 10,
   "metadata": {},
   "outputs": [
    {
     "name": "stdout",
     "output_type": "stream",
     "text": [
      "Yes, date is in DayLight Saving\n",
      "No, date is not in DayLight Saving\n"
     ]
    }
   ],
   "source": [
    "from datetime import datetime, timedelta, timezone\n",
    "import pytz\n",
    "\n",
    "def is_daylight_saving(date, tz):\n",
    "    # Checks if a given date is in daylight saving time.\n",
    "    # Returns True if the date is in daylight saving time, False otherwise.\n",
    "    timezone = pytz.timezone(tz)\n",
    "    date = timezone.localize(datetime.strptime(date, '%Y-%m-%d'))\n",
    "    return date.dst() != timedelta(0)\n",
    "\n",
    "# Example 1\n",
    "date = '2022-06-01'\n",
    "tz = 'US/Eastern'\n",
    "\n",
    "if is_daylight_saving(date, tz):\n",
    "    print('Yes, date is in DayLight Saving')\n",
    "else:\n",
    "    print('No, date is not in DayLight Saving')\n",
    "\n",
    "# Example 2\n",
    "date = '2022-12-01'\n",
    "tz = 'US/Eastern'\n",
    "\n",
    "if is_daylight_saving(date, tz):\n",
    "    print('Yes, date is in DayLight Saving')\n",
    "else:\n",
    "    print('No, date is not in DayLight Saving')"
   ]
  },
  {
   "cell_type": "code",
   "execution_count": 19,
   "metadata": {},
   "outputs": [
    {
     "name": "stdout",
     "output_type": "stream",
     "text": [
      "['US/Alaska',\n",
      " 'US/Aleutian',\n",
      " 'US/Arizona',\n",
      " 'US/Central',\n",
      " 'US/East-Indiana',\n",
      " 'US/Eastern',\n",
      " 'US/Hawaii',\n",
      " 'US/Indiana-Starke',\n",
      " 'US/Michigan',\n",
      " 'US/Mountain',\n",
      " 'US/Pacific',\n",
      " 'US/Samoa']\n"
     ]
    }
   ],
   "source": [
    "import pprint\n",
    "pprint.pprint(list(filter(lambda x: x.startswith('US'), pytz.all_timezones)))\n",
    "# America/New_York"
   ]
  },
  {
   "cell_type": "markdown",
   "metadata": {},
   "source": [
    "## Test Grib2"
   ]
  },
  {
   "cell_type": "markdown",
   "metadata": {},
   "source": []
  }
 ],
 "metadata": {
  "kernelspec": {
   "display_name": "energy_x86",
   "language": "python",
   "name": "python3"
  },
  "language_info": {
   "codemirror_mode": {
    "name": "ipython",
    "version": 3
   },
   "file_extension": ".py",
   "mimetype": "text/x-python",
   "name": "python",
   "nbconvert_exporter": "python",
   "pygments_lexer": "ipython3",
   "version": "3.9.15"
  }
 },
 "nbformat": 4,
 "nbformat_minor": 2
}
