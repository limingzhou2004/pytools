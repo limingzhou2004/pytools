{
 "cells": [
  {
   "cell_type": "markdown",
   "metadata": {},
   "source": []
  },
  {
   "cell_type": "markdown",
   "metadata": {},
   "source": [
    "# Table of Contents\n",
    "1. [Weather Data](#WeatherData)\n",
    "2. [Test Calendar Data](#CalendarData)\n",
    "3. [Grib data](#Grib2Data)"
   ]
  },
  {
   "cell_type": "code",
   "execution_count": 2,
   "metadata": {},
   "outputs": [],
   "source": [
    "import pandas as pd"
   ]
  },
  {
   "cell_type": "code",
   "execution_count": null,
   "metadata": {},
   "outputs": [],
   "source": []
  },
  {
   "cell_type": "markdown",
   "metadata": {},
   "source": [
    "## Weather Data <a name=\"WeatherData\"> </a>"
   ]
  },
  {
   "cell_type": "code",
   "execution_count": 4,
   "metadata": {},
   "outputs": [
    {
     "data": {
      "text/html": [
       "<div>\n",
       "<style scoped>\n",
       "    .dataframe tbody tr th:only-of-type {\n",
       "        vertical-align: middle;\n",
       "    }\n",
       "\n",
       "    .dataframe tbody tr th {\n",
       "        vertical-align: top;\n",
       "    }\n",
       "\n",
       "    .dataframe thead th {\n",
       "        text-align: right;\n",
       "    }\n",
       "</style>\n",
       "<table border=\"1\" class=\"dataframe\">\n",
       "  <thead>\n",
       "    <tr style=\"text-align: right;\">\n",
       "      <th></th>\n",
       "      <th>filename</th>\n",
       "      <th>folder</th>\n",
       "      <th>type</th>\n",
       "      <th>timestamp</th>\n",
       "      <th>cplt_timestamp</th>\n",
       "    </tr>\n",
       "  </thead>\n",
       "  <tbody>\n",
       "    <tr>\n",
       "      <th>0</th>\n",
       "      <td>hrrrsub_2018_01_01_00F0.grib2</td>\n",
       "      <td>/Volumes/T7 Blue/grib2_2018</td>\n",
       "      <td>hrrr_obs</td>\n",
       "      <td>2018-01-01 00:00:00</td>\n",
       "      <td>2018-01-01 00:00:00</td>\n",
       "    </tr>\n",
       "    <tr>\n",
       "      <th>1</th>\n",
       "      <td>hrrrsub_2018_01_01_01F0.grib2</td>\n",
       "      <td>/Volumes/T7 Blue/grib2_2018</td>\n",
       "      <td>hrrr_obs</td>\n",
       "      <td>2018-01-01 01:00:00</td>\n",
       "      <td>2018-01-01 01:00:00</td>\n",
       "    </tr>\n",
       "    <tr>\n",
       "      <th>2</th>\n",
       "      <td>hrrrsub_2018_01_01_02F0.grib2</td>\n",
       "      <td>/Volumes/T7 Blue/grib2_2018</td>\n",
       "      <td>hrrr_obs</td>\n",
       "      <td>2018-01-01 02:00:00</td>\n",
       "      <td>2018-01-01 02:00:00</td>\n",
       "    </tr>\n",
       "    <tr>\n",
       "      <th>3</th>\n",
       "      <td>hrrrsub_2018_01_01_03F0.grib2</td>\n",
       "      <td>/Volumes/T7 Blue/grib2_2018</td>\n",
       "      <td>hrrr_obs</td>\n",
       "      <td>2018-01-01 03:00:00</td>\n",
       "      <td>2018-01-01 03:00:00</td>\n",
       "    </tr>\n",
       "    <tr>\n",
       "      <th>4</th>\n",
       "      <td>hrrrsub_2018_01_01_04F0.grib2</td>\n",
       "      <td>/Volumes/T7 Blue/grib2_2018</td>\n",
       "      <td>hrrr_obs</td>\n",
       "      <td>2018-01-01 04:00:00</td>\n",
       "      <td>2018-01-01 04:00:00</td>\n",
       "    </tr>\n",
       "    <tr>\n",
       "      <th>5</th>\n",
       "      <td>hrrrsub_2018_01_01_05F0.grib2</td>\n",
       "      <td>/Volumes/T7 Blue/grib2_2018</td>\n",
       "      <td>hrrr_obs</td>\n",
       "      <td>2018-01-01 05:00:00</td>\n",
       "      <td>2018-01-01 05:00:00</td>\n",
       "    </tr>\n",
       "    <tr>\n",
       "      <th>6</th>\n",
       "      <td>hrrrsub_2018_01_01_06F0.grib2</td>\n",
       "      <td>/Volumes/T7 Blue/grib2_2018</td>\n",
       "      <td>hrrr_obs</td>\n",
       "      <td>2018-01-01 06:00:00</td>\n",
       "      <td>2018-01-01 06:00:00</td>\n",
       "    </tr>\n",
       "    <tr>\n",
       "      <th>7</th>\n",
       "      <td>hrrrsub_2018_01_01_07F0.grib2</td>\n",
       "      <td>/Volumes/T7 Blue/grib2_2018</td>\n",
       "      <td>hrrr_obs</td>\n",
       "      <td>2018-01-01 07:00:00</td>\n",
       "      <td>2018-01-01 07:00:00</td>\n",
       "    </tr>\n",
       "    <tr>\n",
       "      <th>8</th>\n",
       "      <td>hrrrsub_2018_01_01_08F0.grib2</td>\n",
       "      <td>/Volumes/T7 Blue/grib2_2018</td>\n",
       "      <td>hrrr_obs</td>\n",
       "      <td>2018-01-01 08:00:00</td>\n",
       "      <td>2018-01-01 08:00:00</td>\n",
       "    </tr>\n",
       "    <tr>\n",
       "      <th>9</th>\n",
       "      <td>hrrrsub_2018_01_01_09F0.grib2</td>\n",
       "      <td>/Volumes/T7 Blue/grib2_2018</td>\n",
       "      <td>hrrr_obs</td>\n",
       "      <td>2018-01-01 09:00:00</td>\n",
       "      <td>2018-01-01 09:00:00</td>\n",
       "    </tr>\n",
       "  </tbody>\n",
       "</table>\n",
       "</div>"
      ],
      "text/plain": [
       "                        filename                       folder      type  \\\n",
       "0  hrrrsub_2018_01_01_00F0.grib2  /Volumes/T7 Blue/grib2_2018  hrrr_obs   \n",
       "1  hrrrsub_2018_01_01_01F0.grib2  /Volumes/T7 Blue/grib2_2018  hrrr_obs   \n",
       "2  hrrrsub_2018_01_01_02F0.grib2  /Volumes/T7 Blue/grib2_2018  hrrr_obs   \n",
       "3  hrrrsub_2018_01_01_03F0.grib2  /Volumes/T7 Blue/grib2_2018  hrrr_obs   \n",
       "4  hrrrsub_2018_01_01_04F0.grib2  /Volumes/T7 Blue/grib2_2018  hrrr_obs   \n",
       "5  hrrrsub_2018_01_01_05F0.grib2  /Volumes/T7 Blue/grib2_2018  hrrr_obs   \n",
       "6  hrrrsub_2018_01_01_06F0.grib2  /Volumes/T7 Blue/grib2_2018  hrrr_obs   \n",
       "7  hrrrsub_2018_01_01_07F0.grib2  /Volumes/T7 Blue/grib2_2018  hrrr_obs   \n",
       "8  hrrrsub_2018_01_01_08F0.grib2  /Volumes/T7 Blue/grib2_2018  hrrr_obs   \n",
       "9  hrrrsub_2018_01_01_09F0.grib2  /Volumes/T7 Blue/grib2_2018  hrrr_obs   \n",
       "\n",
       "            timestamp      cplt_timestamp  \n",
       "0 2018-01-01 00:00:00 2018-01-01 00:00:00  \n",
       "1 2018-01-01 01:00:00 2018-01-01 01:00:00  \n",
       "2 2018-01-01 02:00:00 2018-01-01 02:00:00  \n",
       "3 2018-01-01 03:00:00 2018-01-01 03:00:00  \n",
       "4 2018-01-01 04:00:00 2018-01-01 04:00:00  \n",
       "5 2018-01-01 05:00:00 2018-01-01 05:00:00  \n",
       "6 2018-01-01 06:00:00 2018-01-01 06:00:00  \n",
       "7 2018-01-01 07:00:00 2018-01-01 07:00:00  \n",
       "8 2018-01-01 08:00:00 2018-01-01 08:00:00  \n",
       "9 2018-01-01 09:00:00 2018-01-01 09:00:00  "
      ]
     },
     "execution_count": 4,
     "metadata": {},
     "output_type": "execute_result"
    }
   ],
   "source": [
    "df=pd.read_pickle('grib2_folder_0.pkl')\n",
    "df.head(10)"
   ]
  },
  {
   "cell_type": "code",
   "execution_count": 13,
   "metadata": {},
   "outputs": [
    {
     "data": {
      "text/plain": [
       "filename           hrrrsub_2024_02_08_07F0.grib2\n",
       "folder            /Volumes/T7 Gray/hrrr_obs_2023\n",
       "type                                    hrrr_obs\n",
       "timestamp                    2024-02-08 07:00:00\n",
       "cplt_timestamp               2024-02-08 07:00:00\n",
       "Name: 53515, dtype: object"
      ]
     },
     "execution_count": 13,
     "metadata": {},
     "output_type": "execute_result"
    }
   ],
   "source": [
    "df.iloc[-6]"
   ]
  },
  {
   "cell_type": "code",
   "execution_count": 14,
   "metadata": {},
   "outputs": [
    {
     "data": {
      "text/plain": [
       "hrrr_obs     45894\n",
       "utah_grib     6994\n",
       "Name: type, dtype: int64"
      ]
     },
     "execution_count": 14,
     "metadata": {},
     "output_type": "execute_result"
    }
   ],
   "source": [
    "df.type.value_counts()"
   ]
  },
  {
   "cell_type": "markdown",
   "metadata": {},
   "source": [
    "## Test calendar <a name=\"CalendarData\"> </a>"
   ]
  },
  {
   "cell_type": "code",
   "execution_count": 1,
   "metadata": {},
   "outputs": [],
   "source": [
    "import holidays\n",
    "import datetime as dt\n",
    "import pytz"
   ]
  },
  {
   "cell_type": "code",
   "execution_count": 3,
   "metadata": {},
   "outputs": [
    {
     "name": "stdout",
     "output_type": "stream",
     "text": [
      "2023-01-01 New Year's Day\n",
      "2023-01-02 New Year's Day (observed)\n",
      "2023-01-16 Martin Luther King Jr. Day\n",
      "2023-02-12 Lincoln's Birthday\n",
      "2023-02-13 Lincoln's Birthday (observed)\n",
      "2023-02-15 Susan B. Anthony Day\n",
      "2023-02-20 Washington's Birthday\n",
      "2023-05-29 Memorial Day\n",
      "2023-06-19 Juneteenth National Independence Day\n",
      "2023-07-04 Independence Day\n",
      "2023-09-04 Labor Day\n",
      "2023-10-09 Columbus Day\n",
      "2023-11-07 Election Day\n",
      "2023-11-10 Veterans Day (observed)\n",
      "2023-11-11 Veterans Day\n",
      "2023-11-23 Thanksgiving\n",
      "2023-12-25 Christmas Day\n"
     ]
    }
   ],
   "source": [
    "for date, name in sorted(holidays.US(subdiv='NY', years=2023).items()):\n",
    "    print(date, name)"
   ]
  },
  {
   "cell_type": "code",
   "execution_count": 10,
   "metadata": {},
   "outputs": [
    {
     "data": {
      "text/plain": [
       "True"
      ]
     },
     "execution_count": 10,
     "metadata": {},
     "output_type": "execute_result"
    }
   ],
   "source": [
    "h = holidays.US(subdiv='NY', years=2023)\n",
    "dt.date(2023,1,2) in h\n",
    "\n"
   ]
  },
  {
   "cell_type": "code",
   "execution_count": 10,
   "metadata": {},
   "outputs": [
    {
     "name": "stdout",
     "output_type": "stream",
     "text": [
      "Yes, date is in DayLight Saving\n",
      "No, date is not in DayLight Saving\n"
     ]
    }
   ],
   "source": [
    "from datetime import datetime, timedelta, timezone\n",
    "import pytz\n",
    "\n",
    "def is_daylight_saving(date, tz):\n",
    "    # Checks if a given date is in daylight saving time.\n",
    "    # Returns True if the date is in daylight saving time, False otherwise.\n",
    "    timezone = pytz.timezone(tz)\n",
    "    date = timezone.localize(datetime.strptime(date, '%Y-%m-%d'))\n",
    "    return date.dst() != timedelta(0)\n",
    "\n",
    "# Example 1\n",
    "date = '2022-06-01'\n",
    "tz = 'US/Eastern'\n",
    "\n",
    "if is_daylight_saving(date, tz):\n",
    "    print('Yes, date is in DayLight Saving')\n",
    "else:\n",
    "    print('No, date is not in DayLight Saving')\n",
    "\n",
    "# Example 2\n",
    "date = '2022-12-01'\n",
    "tz = 'US/Eastern'\n",
    "\n",
    "if is_daylight_saving(date, tz):\n",
    "    print('Yes, date is in DayLight Saving')\n",
    "else:\n",
    "    print('No, date is not in DayLight Saving')"
   ]
  },
  {
   "cell_type": "code",
   "execution_count": 19,
   "metadata": {},
   "outputs": [
    {
     "name": "stdout",
     "output_type": "stream",
     "text": [
      "['US/Alaska',\n",
      " 'US/Aleutian',\n",
      " 'US/Arizona',\n",
      " 'US/Central',\n",
      " 'US/East-Indiana',\n",
      " 'US/Eastern',\n",
      " 'US/Hawaii',\n",
      " 'US/Indiana-Starke',\n",
      " 'US/Michigan',\n",
      " 'US/Mountain',\n",
      " 'US/Pacific',\n",
      " 'US/Samoa']\n"
     ]
    }
   ],
   "source": [
    "import pprint\n",
    "pprint.pprint(list(filter(lambda x: x.startswith('US'), pytz.all_timezones)))\n",
    "# America/New_York"
   ]
  },
  {
   "cell_type": "markdown",
   "metadata": {},
   "source": [
    "## Test Grib2 <a name=\"Grib2Data\"> </a>"
   ]
  },
  {
   "cell_type": "markdown",
   "metadata": {},
   "source": []
  }
 ],
 "metadata": {
  "kernelspec": {
   "display_name": "energy_x86",
   "language": "python",
   "name": "python3"
  },
  "language_info": {
   "codemirror_mode": {
    "name": "ipython",
    "version": 3
   },
   "file_extension": ".py",
   "mimetype": "text/x-python",
   "name": "python",
   "nbconvert_exporter": "python",
   "pygments_lexer": "ipython3",
   "version": "3.9.15"
  }
 },
 "nbformat": 4,
 "nbformat_minor": 2
}
