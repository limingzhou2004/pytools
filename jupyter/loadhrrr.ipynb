{
 "cells": [
  {
   "cell_type": "code",
   "execution_count": 49,
   "metadata": {},
   "outputs": [],
   "source": [
    "%matplotlib inline\n",
    "import numpy as np\n",
    "from matplotlib.dates import datestr2num,num2date,date2num\n"
   ]
  },
  {
   "cell_type": "code",
   "execution_count": 17,
   "metadata": {},
   "outputs": [],
   "source": [
    "fn=\"samplehrrr.txt\"\n",
    "#dtype={'names': ('para', 'timestamp', 'x','y','val','flag'), 'formats': ('S1', 'i4', 'f4')}\n",
    "#converter={1: lambda s:datestr2num(s)}\n",
    "data=np.genfromtxt(fname=fn, dtype=None,delimiter=',',skip_header=1)"
   ]
  },
  {
   "cell_type": "code",
   "execution_count": 18,
   "metadata": {},
   "outputs": [
    {
     "data": {
      "text/plain": [
       "array([(b'temp', b'2017-01-01 13:00', 124, 73,  56.9, 0),\n",
       "       (b'temp', b'2017-01-01 14:00', 125, 73,  55.3, 0)], \n",
       "      dtype=[('f0', 'S4'), ('f1', 'S16'), ('f2', '<i8'), ('f3', '<i8'), ('f4', '<f8'), ('f5', '<i8')])"
      ]
     },
     "execution_count": 18,
     "metadata": {},
     "output_type": "execute_result"
    }
   ],
   "source": [
    "data"
   ]
  },
  {
   "cell_type": "code",
   "execution_count": 43,
   "metadata": {},
   "outputs": [],
   "source": [
    "width=3\n",
    "height=2\n",
    "cat=['temp','rh','ws0','ws1','rad']#temp,rh,ws0,ws1,rad\n",
    "pic=np.zeros((width,height,cat), dtype=np.float32)\n",
    "#loop through datetime, cat, x,y\n",
    "for c in cat:\n",
    "    \n"
   ]
  },
  {
   "cell_type": "code",
   "execution_count": 72,
   "metadata": {},
   "outputs": [
    {
     "data": {
      "text/plain": [
       "dtype([('f0', 'S4'), ('f1', 'S16'), ('f2', '<i8'), ('f3', '<i8'), ('f4', '<f8'), ('f5', '<i8')])"
      ]
     },
     "execution_count": 72,
     "metadata": {},
     "output_type": "execute_result"
    }
   ],
   "source": [
    "data[0].dtype\n",
    "#output\n",
    "#data.tofile(\"test\")"
   ]
  },
  {
   "cell_type": "code",
   "execution_count": 57,
   "metadata": {},
   "outputs": [
    {
     "data": {
      "text/plain": [
       "False"
      ]
     },
     "execution_count": 57,
     "metadata": {},
     "output_type": "execute_result"
    }
   ],
   "source": [
    "#np.is_busday(np.datetime64('2017-11-05'))#,weekmask='1111100')\n"
   ]
  },
  {
   "cell_type": "code",
   "execution_count": 51,
   "metadata": {},
   "outputs": [
    {
     "data": {
      "text/plain": [
       "True"
      ]
     },
     "execution_count": 51,
     "metadata": {},
     "output_type": "execute_result"
    }
   ],
   "source": [
    "t=np.datetime64('2017-11-05')\n",
    "t==np.datetime64('2017-11-05 00:00')"
   ]
  },
  {
   "cell_type": "code",
   "execution_count": 45,
   "metadata": {},
   "outputs": [
    {
     "data": {
      "text/plain": [
       "array([ 0.,  0.,  0.,  0.], dtype=float32)"
      ]
     },
     "execution_count": 45,
     "metadata": {},
     "output_type": "execute_result"
    }
   ],
   "source": [
    "pic[1,1]"
   ]
  },
  {
   "cell_type": "code",
   "execution_count": null,
   "metadata": {
    "collapsed": true
   },
   "outputs": [],
   "source": []
  }
 ],
 "metadata": {
  "kernelspec": {
   "display_name": "Python 3",
   "language": "python",
   "name": "python3"
  },
  "language_info": {
   "codemirror_mode": {
    "name": "ipython",
    "version": 3
   },
   "file_extension": ".py",
   "mimetype": "text/x-python",
   "name": "python",
   "nbconvert_exporter": "python",
   "pygments_lexer": "ipython3",
   "version": "3.6.1"
  }
 },
 "nbformat": 4,
 "nbformat_minor": 2
}
