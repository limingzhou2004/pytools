{
 "cells": [
  {
   "cell_type": "code",
   "execution_count": 1,
   "id": "add2a6cf-7000-4511-88f6-ebcd014f48c3",
   "metadata": {
    "tags": []
   },
   "outputs": [],
   "source": [
    "import pandas as pd\n",
    "import numpy as np"
   ]
  },
  {
   "cell_type": "code",
   "execution_count": 17,
   "id": "03fc246e-0ba5-4e97-82c5-e61ceee46218",
   "metadata": {},
   "outputs": [],
   "source": [
    "t_winter=pd.Timestamp('2010-01-04T03:00',tz='UTC')\n",
    "t_summer=pd.Timestamp('2010-07-04T03:00',tz='UTC')"
   ]
  },
  {
   "cell_type": "code",
   "execution_count": 15,
   "id": "9d34f3dc",
   "metadata": {},
   "outputs": [
    {
     "data": {
      "text/plain": [
       "Timestamp('2010-01-04 03:00:00+0000', tz='UTC')"
      ]
     },
     "execution_count": 15,
     "metadata": {},
     "output_type": "execute_result"
    }
   ],
   "source": [
    "t"
   ]
  },
  {
   "cell_type": "code",
   "execution_count": 16,
   "id": "3e3bf6a9",
   "metadata": {},
   "outputs": [
    {
     "data": {
      "text/plain": [
       "Timestamp('2010-01-03 22:00:00-0500', tz='US/Eastern')"
      ]
     },
     "execution_count": 16,
     "metadata": {},
     "output_type": "execute_result"
    }
   ],
   "source": [
    "t_winter.tz_convert(tz='US/Eastern')"
   ]
  },
  {
   "cell_type": "code",
   "execution_count": 18,
   "id": "03d21f4d",
   "metadata": {},
   "outputs": [
    {
     "data": {
      "text/plain": [
       "Timestamp('2010-07-03 23:00:00-0400', tz='US/Eastern')"
      ]
     },
     "execution_count": 18,
     "metadata": {},
     "output_type": "execute_result"
    }
   ],
   "source": [
    "t_summer.tz_convert(tz='US/Eastern')"
   ]
  },
  {
   "cell_type": "code",
   "execution_count": 19,
   "id": "1788720c",
   "metadata": {},
   "outputs": [
    {
     "data": {
      "text/plain": [
       "Timestamp('2010-07-04 03:00:00+0000', tz='UTC')"
      ]
     },
     "execution_count": 19,
     "metadata": {},
     "output_type": "execute_result"
    }
   ],
   "source": [
    "t_summer"
   ]
  },
  {
   "cell_type": "code",
   "execution_count": 5,
   "id": "8a72822b",
   "metadata": {},
   "outputs": [
    {
     "name": "stdout",
     "output_type": "stream",
     "text": [
      "EST5EDT\n"
     ]
    }
   ],
   "source": [
    "import pytz\n",
    "for tz in pytz.all_timezones:\n",
    "    if 'EDT' in tz:\n",
    "        print(tz)"
   ]
  },
  {
   "cell_type": "code",
   "execution_count": null,
   "id": "b673dfd6",
   "metadata": {},
   "outputs": [],
   "source": []
  },
  {
   "cell_type": "code",
   "execution_count": null,
   "id": "9004be2a",
   "metadata": {},
   "outputs": [],
   "source": []
  }
 ],
 "metadata": {
  "kernelspec": {
   "display_name": "energy_x86",
   "language": "python",
   "name": "python3"
  },
  "language_info": {
   "codemirror_mode": {
    "name": "ipython",
    "version": 3
   },
   "file_extension": ".py",
   "mimetype": "text/x-python",
   "name": "python",
   "nbconvert_exporter": "python",
   "pygments_lexer": "ipython3",
   "version": "3.9.15"
  }
 },
 "nbformat": 4,
 "nbformat_minor": 5
}
