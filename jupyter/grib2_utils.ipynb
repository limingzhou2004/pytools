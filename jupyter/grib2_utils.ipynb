{
 "cells": [
  {
   "cell_type": "code",
   "execution_count": 2,
   "id": "929d22e1-d355-4f79-9506-47683a32e442",
   "metadata": {},
   "outputs": [
    {
     "ename": "ModuleNotFoundError",
     "evalue": "No module named 'pynio'",
     "output_type": "error",
     "traceback": [
      "\u001b[0;31m---------------------------------------------------------------------------\u001b[0m",
      "\u001b[0;31mModuleNotFoundError\u001b[0m                       Traceback (most recent call last)",
      "Input \u001b[0;32mIn [2]\u001b[0m, in \u001b[0;36m<cell line: 4>\u001b[0;34m()\u001b[0m\n\u001b[1;32m      1\u001b[0m \u001b[38;5;28;01mimport\u001b[39;00m \u001b[38;5;21;01mos\u001b[39;00m\n\u001b[1;32m      3\u001b[0m \u001b[38;5;28;01mimport\u001b[39;00m \u001b[38;5;21;01mxarray\u001b[39;00m \u001b[38;5;28;01mas\u001b[39;00m \u001b[38;5;21;01mxr\u001b[39;00m\n\u001b[0;32m----> 4\u001b[0m \u001b[38;5;28;01mimport\u001b[39;00m \u001b[38;5;21;01mpynio\u001b[39;00m\n",
      "\u001b[0;31mModuleNotFoundError\u001b[0m: No module named 'pynio'"
     ]
    }
   ],
   "source": [
    "import os\n",
    "\n",
    "import xarray as xr\n",
    "import pynio"
   ]
  },
  {
   "cell_type": "code",
   "execution_count": 7,
   "id": "aa9b3d2d-cdd8-4855-ac85-8c2828c691e0",
   "metadata": {},
   "outputs": [
    {
     "ename": "ValueError",
     "evalue": "unrecognized engine pynio must be one of: ['scipy', 'store']",
     "output_type": "error",
     "traceback": [
      "\u001b[0;31m---------------------------------------------------------------------------\u001b[0m",
      "\u001b[0;31mValueError\u001b[0m                                Traceback (most recent call last)",
      "Input \u001b[0;32mIn [7]\u001b[0m, in \u001b[0;36m<cell line: 2>\u001b[0;34m()\u001b[0m\n\u001b[1;32m      1\u001b[0m hrrr_obs_path \u001b[38;5;241m=\u001b[39m \u001b[38;5;124m'\u001b[39m\u001b[38;5;124m/Users/limingzhou/zhoul/work/energy/grib2/hrrrdata\u001b[39m\u001b[38;5;124m'\u001b[39m\n\u001b[0;32m----> 2\u001b[0m ds \u001b[38;5;241m=\u001b[39m \u001b[43mxr\u001b[49m\u001b[38;5;241;43m.\u001b[39;49m\u001b[43mopen_dataset\u001b[49m\u001b[43m(\u001b[49m\u001b[43mhrrr_obs_path\u001b[49m\u001b[43m,\u001b[49m\u001b[43m \u001b[49m\u001b[43mengine\u001b[49m\u001b[38;5;241;43m=\u001b[39;49m\u001b[38;5;124;43m\"\u001b[39;49m\u001b[38;5;124;43mpynio\u001b[39;49m\u001b[38;5;124;43m\"\u001b[39;49m\u001b[43m)\u001b[49m\n",
      "File \u001b[0;32m~/miniforge3/lib/python3.9/site-packages/xarray/backends/api.py:526\u001b[0m, in \u001b[0;36mopen_dataset\u001b[0;34m(filename_or_obj, engine, chunks, cache, decode_cf, mask_and_scale, decode_times, decode_timedelta, use_cftime, concat_characters, decode_coords, drop_variables, inline_array, backend_kwargs, **kwargs)\u001b[0m\n\u001b[1;32m    523\u001b[0m \u001b[38;5;28;01mif\u001b[39;00m engine \u001b[38;5;129;01mis\u001b[39;00m \u001b[38;5;28;01mNone\u001b[39;00m:\n\u001b[1;32m    524\u001b[0m     engine \u001b[38;5;241m=\u001b[39m plugins\u001b[38;5;241m.\u001b[39mguess_engine(filename_or_obj)\n\u001b[0;32m--> 526\u001b[0m backend \u001b[38;5;241m=\u001b[39m \u001b[43mplugins\u001b[49m\u001b[38;5;241;43m.\u001b[39;49m\u001b[43mget_backend\u001b[49m\u001b[43m(\u001b[49m\u001b[43mengine\u001b[49m\u001b[43m)\u001b[49m\n\u001b[1;32m    528\u001b[0m decoders \u001b[38;5;241m=\u001b[39m _resolve_decoders_kwargs(\n\u001b[1;32m    529\u001b[0m     decode_cf,\n\u001b[1;32m    530\u001b[0m     open_backend_dataset_parameters\u001b[38;5;241m=\u001b[39mbackend\u001b[38;5;241m.\u001b[39mopen_dataset_parameters,\n\u001b[0;32m   (...)\u001b[0m\n\u001b[1;32m    536\u001b[0m     decode_coords\u001b[38;5;241m=\u001b[39mdecode_coords,\n\u001b[1;32m    537\u001b[0m )\n\u001b[1;32m    539\u001b[0m overwrite_encoded_chunks \u001b[38;5;241m=\u001b[39m kwargs\u001b[38;5;241m.\u001b[39mpop(\u001b[38;5;124m\"\u001b[39m\u001b[38;5;124moverwrite_encoded_chunks\u001b[39m\u001b[38;5;124m\"\u001b[39m, \u001b[38;5;28;01mNone\u001b[39;00m)\n",
      "File \u001b[0;32m~/miniforge3/lib/python3.9/site-packages/xarray/backends/plugins.py:185\u001b[0m, in \u001b[0;36mget_backend\u001b[0;34m(engine)\u001b[0m\n\u001b[1;32m    183\u001b[0m     engines \u001b[38;5;241m=\u001b[39m list_engines()\n\u001b[1;32m    184\u001b[0m     \u001b[38;5;28;01mif\u001b[39;00m engine \u001b[38;5;129;01mnot\u001b[39;00m \u001b[38;5;129;01min\u001b[39;00m engines:\n\u001b[0;32m--> 185\u001b[0m         \u001b[38;5;28;01mraise\u001b[39;00m \u001b[38;5;167;01mValueError\u001b[39;00m(\n\u001b[1;32m    186\u001b[0m             \u001b[38;5;124mf\u001b[39m\u001b[38;5;124m\"\u001b[39m\u001b[38;5;124munrecognized engine \u001b[39m\u001b[38;5;132;01m{\u001b[39;00mengine\u001b[38;5;132;01m}\u001b[39;00m\u001b[38;5;124m must be one of: \u001b[39m\u001b[38;5;132;01m{\u001b[39;00m\u001b[38;5;28mlist\u001b[39m(engines)\u001b[38;5;132;01m}\u001b[39;00m\u001b[38;5;124m\"\u001b[39m\n\u001b[1;32m    187\u001b[0m         )\n\u001b[1;32m    188\u001b[0m     backend \u001b[38;5;241m=\u001b[39m engines[engine]\n\u001b[1;32m    189\u001b[0m \u001b[38;5;28;01melif\u001b[39;00m \u001b[38;5;28misinstance\u001b[39m(engine, \u001b[38;5;28mtype\u001b[39m) \u001b[38;5;129;01mand\u001b[39;00m \u001b[38;5;28missubclass\u001b[39m(engine, BackendEntrypoint):\n",
      "\u001b[0;31mValueError\u001b[0m: unrecognized engine pynio must be one of: ['scipy', 'store']"
     ]
    }
   ],
   "source": [
    "hrrr_obs_path = '/Users/limingzhou/zhoul/work/energy/grib2/hrrrdata'\n",
    "ds = xr.open_dataset(hrrr_obs_path, engine=\"pynio\")\n"
   ]
  },
  {
   "cell_type": "code",
   "execution_count": 6,
   "id": "f7895364-910d-4e1b-a81e-d7f67418e19e",
   "metadata": {},
   "outputs": [
    {
     "name": "stdout",
     "output_type": "stream",
     "text": [
      "Collecting package metadata (current_repodata.json): done\n",
      "Solving environment: failed with initial frozen solve. Retrying with flexible solve.\n",
      "Collecting package metadata (repodata.json): done\n",
      "Solving environment: failed with initial frozen solve. Retrying with flexible solve.\n",
      "\n",
      "PackagesNotFoundError: The following packages are not available from current channels:\n",
      "\n",
      "  - pynio\n",
      "\n",
      "Current channels:\n",
      "\n",
      "  - https://conda.anaconda.org/conda-forge/osx-arm64\n",
      "  - https://conda.anaconda.org/conda-forge/noarch\n",
      "\n",
      "To search for alternate channels that may provide the conda package you're\n",
      "looking for, navigate to\n",
      "\n",
      "    https://anaconda.org\n",
      "\n",
      "and use the search bar at the top of the page.\n",
      "\n",
      "\n"
     ]
    }
   ],
   "source": [
    "!conda install pynio"
   ]
  },
  {
   "cell_type": "code",
   "execution_count": 9,
   "id": "ba6fb7fe-fe6a-48bf-903a-b8ab8dfe72cf",
   "metadata": {},
   "outputs": [],
   "source": [
    "\n",
    "\n",
    "def grb_to_grid(grb_obj):\n",
    "    \"\"\"Takes a single grb object containing multiple\n",
    "    levels. Assumes same time, pressure levels. Compiles to a cube\"\"\"\n",
    "    n_levels = len(grb_obj)\n",
    "    levels = np.array([grb_element['level'] for grb_element in grb_obj])\n",
    "    indexes = np.argsort(levels)[::-1] # highest pressure first\n",
    "    cube = np.zeros([n_levels, grb_obj[0].values.shape[0], grb_obj[1].values.shape[1]])\n",
    "    for i in range(n_levels):\n",
    "        cube[i,:,:] = grb_obj[indexes[i]].values\n",
    "    cube_dict = {'data' : cube, 'units' : grb_obj[0]['units'],\n",
    "                 'levels' : levels[indexes]}\n",
    "    return cube_dict\n",
    "        \n",
    "    \n",
    "     \n"
   ]
  },
  {
   "cell_type": "code",
   "execution_count": null,
   "id": "87308f78-44c9-4b3a-b200-9d6fa30b3284",
   "metadata": {},
   "outputs": [],
   "source": []
  },
  {
   "cell_type": "markdown",
   "id": "88c086ef-b91c-4ba1-92e0-d8b07be854eb",
   "metadata": {},
   "source": [
    "### Get all grib files from a folder"
   ]
  },
  {
   "cell_type": "code",
   "execution_count": 10,
   "id": "46c89de6-51cf-4a87-860d-d4e9c7679093",
   "metadata": {},
   "outputs": [],
   "source": [
    "g_file = pygrib.open(os.path.join(hrrr_obs_path, 'hrrrsub_2020_01_01_00F0.grib2'))"
   ]
  },
  {
   "cell_type": "code",
   "execution_count": null,
   "id": "7d675d28-627f-41ef-a9a0-f10e4feabbe2",
   "metadata": {},
   "outputs": [],
   "source": [
    "\n",
    "\n",
    "grb = g_file.select(name='Cloud mixing ratio')\n",
    "grb_cube=grb_to_grid(grb)"
   ]
  },
  {
   "cell_type": "markdown",
   "id": "8e7a72b6-946d-4985-9317-c459f4be0351",
   "metadata": {},
   "source": [
    "### Get the mina and max datetime"
   ]
  },
  {
   "cell_type": "code",
   "execution_count": null,
   "id": "4b06ef4f-3b6f-494b-a27c-a0bef9cf7062",
   "metadata": {},
   "outputs": [],
   "source": []
  },
  {
   "cell_type": "markdown",
   "id": "ea296516-b3fc-4d26-b02d-0c2ec7f430f1",
   "metadata": {},
   "source": [
    "### Get the missing hours"
   ]
  },
  {
   "cell_type": "code",
   "execution_count": null,
   "id": "4065b0ea-1e86-4d5f-a448-78151efee68b",
   "metadata": {},
   "outputs": [],
   "source": []
  },
  {
   "cell_type": "markdown",
   "id": "7e2fd367-8f9c-4917-9bda-05d17b6af602",
   "metadata": {},
   "source": [
    "### Extract a rectangle, based on the four corners"
   ]
  },
  {
   "cell_type": "code",
   "execution_count": 7,
   "id": "37baeb03-5fd9-4bdf-929c-87a389bab4d5",
   "metadata": {},
   "outputs": [
    {
     "name": "stdout",
     "output_type": "stream",
     "text": [
      "Name: pygrib\n",
      "Version: 2.1.4\n",
      "Summary: Python module for reading/writing GRIB files\n",
      "Home-page: https://github.com/jswhit/pygrib\n",
      "Author: Jeff Whitaker\n",
      "Author-email: jeffrey.s.whitaker@noaa.gov\n",
      "License: License :: OSI Approved :: MIT License\n",
      "Location: /Users/limingzhou/miniforge3/lib/python3.9/site-packages\n",
      "Requires: numpy, pyproj\n",
      "Required-by: \n"
     ]
    }
   ],
   "source": [
    "!pip show pygrib"
   ]
  },
  {
   "cell_type": "code",
   "execution_count": 2,
   "id": "aaa474bc-ade9-416c-9f69-3661f8378830",
   "metadata": {},
   "outputs": [
    {
     "name": "stdout",
     "output_type": "stream",
     "text": [
      "Collecting package metadata (current_repodata.json): done\n",
      "Solving environment: | \n",
      "The environment is inconsistent, please check the package plan carefully\n",
      "The following packages are causing the inconsistency:\n",
      "\n",
      "  - conda-forge/osx-arm64::ipykernel==6.13.1=py39h32adebf_0\n",
      "  - conda-forge/osx-arm64::ipython==8.4.0=py39h2804cbe_0\n",
      "  - conda-forge/noarch::notebook-shim==0.1.0=pyhd8ed1ab_0\n",
      "  - conda-forge/noarch::python-dateutil==2.8.2=pyhd8ed1ab_0\n",
      "  - conda-forge/osx-arm64::jupyter==1.0.0=py39h2804cbe_7\n",
      "  - conda-forge/osx-arm64::widgetsnbextension==3.6.0=py39h2804cbe_0\n",
      "  - conda-forge/noarch::jupyterlab==3.4.3=pyhd8ed1ab_0\n",
      "  - conda-forge/noarch::ipywidgets==7.7.0=pyhd8ed1ab_0\n",
      "  - apple/osx-arm64::tensorflow-deps==2.9.0=0\n",
      "  - conda-forge/noarch::stack_data==0.2.0=pyhd8ed1ab_0\n",
      "  - conda-forge/noarch::jupyterlab_server==2.14.0=pyhd8ed1ab_0\n",
      "  - conda-forge/osx-arm64::conda==4.13.0=py39h2804cbe_1\n",
      "  - conda-forge/noarch::jupyter_console==6.4.3=pyhd8ed1ab_0\n",
      "  - conda-forge/noarch::bleach==5.0.0=pyhd8ed1ab_0\n",
      "  - conda-forge/noarch::nbclient==0.5.13=pyhd8ed1ab_0\n",
      "  - conda-forge/noarch::jupyter_client==7.3.4=pyhd8ed1ab_0\n",
      "  - conda-forge/noarch::asttokens==2.0.5=pyhd8ed1ab_0\n",
      "  - conda-forge/osx-arm64::grpcio==1.46.3=py39h518bade_0\n",
      "  - conda-forge/osx-arm64::nbconvert==6.4.5=py39h2804cbe_0\n",
      "  - conda-forge/noarch::jupyter_server==1.16.0=pyhd8ed1ab_0\n",
      "  - conda-forge/osx-arm64::conda-package-handling==1.8.1=py39hb18efdd_1\n",
      "  - conda-forge/noarch::nbclassic==0.3.7=pyhd8ed1ab_0\n",
      "  - conda-forge/noarch::notebook==6.4.12=pyha770c72_0\n",
      "failed with initial frozen solve. Retrying with flexible solve.\n",
      "Solving environment: failed with repodata from current_repodata.json, will retry with next repodata source.\n",
      "Collecting package metadata (repodata.json): done\n",
      "Solving environment: | \n",
      "The environment is inconsistent, please check the package plan carefully\n",
      "The following packages are causing the inconsistency:\n",
      "\n",
      "  - conda-forge/osx-arm64::ipykernel==6.13.1=py39h32adebf_0\n",
      "  - conda-forge/osx-arm64::ipython==8.4.0=py39h2804cbe_0\n",
      "  - conda-forge/noarch::notebook-shim==0.1.0=pyhd8ed1ab_0\n",
      "  - conda-forge/noarch::python-dateutil==2.8.2=pyhd8ed1ab_0\n",
      "  - conda-forge/osx-arm64::jupyter==1.0.0=py39h2804cbe_7\n",
      "  - conda-forge/osx-arm64::widgetsnbextension==3.6.0=py39h2804cbe_0\n",
      "  - conda-forge/noarch::jupyterlab==3.4.3=pyhd8ed1ab_0\n",
      "  - conda-forge/noarch::ipywidgets==7.7.0=pyhd8ed1ab_0\n",
      "  - apple/osx-arm64::tensorflow-deps==2.9.0=0\n",
      "  - conda-forge/noarch::stack_data==0.2.0=pyhd8ed1ab_0\n",
      "  - conda-forge/noarch::jupyterlab_server==2.14.0=pyhd8ed1ab_0\n",
      "  - conda-forge/osx-arm64::conda==4.13.0=py39h2804cbe_1\n",
      "  - conda-forge/noarch::jupyter_console==6.4.3=pyhd8ed1ab_0\n",
      "  - conda-forge/noarch::bleach==5.0.0=pyhd8ed1ab_0\n",
      "  - conda-forge/noarch::nbclient==0.5.13=pyhd8ed1ab_0\n",
      "  - conda-forge/noarch::jupyter_client==7.3.4=pyhd8ed1ab_0\n",
      "  - conda-forge/noarch::asttokens==2.0.5=pyhd8ed1ab_0\n",
      "  - conda-forge/osx-arm64::grpcio==1.46.3=py39h518bade_0\n",
      "  - conda-forge/osx-arm64::nbconvert==6.4.5=py39h2804cbe_0\n",
      "  - conda-forge/noarch::jupyter_server==1.16.0=pyhd8ed1ab_0\n",
      "  - conda-forge/osx-arm64::conda-package-handling==1.8.1=py39hb18efdd_1\n",
      "  - conda-forge/noarch::nbclassic==0.3.7=pyhd8ed1ab_0\n",
      "  - conda-forge/noarch::notebook==6.4.12=pyha770c72_0\n",
      "done\n",
      "\n",
      "\n",
      "==> WARNING: A newer version of conda exists. <==\n",
      "  current version: 4.13.0\n",
      "  latest version: 22.11.1\n",
      "\n",
      "Please update conda by running\n",
      "\n",
      "    $ conda update -n base conda\n",
      "\n",
      "\n",
      "\n",
      "## Package Plan ##\n",
      "\n",
      "  environment location: /Users/limingzhou/miniforge3\n",
      "\n",
      "  added / updated specs:\n",
      "    - pygrib\n",
      "\n",
      "\n",
      "The following packages will be downloaded:\n",
      "\n",
      "    package                    |            build\n",
      "    ---------------------------|-----------------\n",
      "    curl-7.83.1                |       h2fcd78c_0         145 KB  conda-forge\n",
      "    eccodes-2.26.0             |       hdebe99d_0         4.5 MB  conda-forge\n",
      "    hdf4-4.2.15                |       hc683e77_4         906 KB  conda-forge\n",
      "    libdeflate-1.13            |       h57fd34a_0          60 KB  conda-forge\n",
      "    libnetcdf-4.8.1            |nompi_h96a3436_102         1.3 MB  conda-forge\n",
      "    libpng-1.6.38              |       h76d750c_0         297 KB  conda-forge\n",
      "    libtiff-4.4.0              |       hd6ca8d7_3         587 KB  conda-forge\n",
      "    libzip-1.9.2               |       h96606af_1         114 KB  conda-forge\n",
      "    openssl-1.1.1s             |       h03a7124_1         1.5 MB  conda-forge\n",
      "    proj-9.0.1                 |       h4c79c2b_0         2.7 MB  conda-forge\n",
      "    pygrib-2.1.4               |   py39h962a9b5_5         176 KB  conda-forge\n",
      "    pyproj-3.4.0               |   py39h4b6117f_0         423 KB  conda-forge\n",
      "    ------------------------------------------------------------\n",
      "                                           Total:        12.7 MB\n",
      "\n",
      "The following NEW packages will be INSTALLED:\n",
      "\n",
      "  curl               conda-forge/osx-arm64::curl-7.83.1-h2fcd78c_0\n",
      "  eccodes            conda-forge/osx-arm64::eccodes-2.26.0-hdebe99d_0\n",
      "  hdf4               conda-forge/osx-arm64::hdf4-4.2.15-hc683e77_4\n",
      "  jasper             conda-forge/osx-arm64::jasper-2.0.33-hba35424_0\n",
      "  jpeg               conda-forge/osx-arm64::jpeg-9e-he4db4b2_2\n",
      "  lerc               conda-forge/osx-arm64::lerc-4.0.0-h9a09cb3_0\n",
      "  libaec             conda-forge/osx-arm64::libaec-1.0.6-hbdafb3b_0\n",
      "  libdeflate         conda-forge/osx-arm64::libdeflate-1.13-h57fd34a_0\n",
      "  libnetcdf          conda-forge/osx-arm64::libnetcdf-4.8.1-nompi_h96a3436_102\n",
      "  libpng             conda-forge/osx-arm64::libpng-1.6.38-h76d750c_0\n",
      "  libtiff            conda-forge/osx-arm64::libtiff-4.4.0-hd6ca8d7_3\n",
      "  libwebp-base       conda-forge/osx-arm64::libwebp-base-1.2.4-h57fd34a_0\n",
      "  libzip             conda-forge/osx-arm64::libzip-1.9.2-h96606af_1\n",
      "  proj               conda-forge/osx-arm64::proj-9.0.1-h4c79c2b_0\n",
      "  pygrib             conda-forge/osx-arm64::pygrib-2.1.4-py39h962a9b5_5\n",
      "  pyproj             conda-forge/osx-arm64::pyproj-3.4.0-py39h4b6117f_0\n",
      "  six                conda-forge/noarch::six-1.16.0-pyh6c4a22f_0\n",
      "  zstd               conda-forge/osx-arm64::zstd-1.5.2-h8128057_4\n",
      "\n",
      "The following packages will be UPDATED:\n",
      "\n",
      "  ca-certificates                    2022.5.18.1-h4653dfc_0 --> 2022.12.7-h4653dfc_0\n",
      "  certifi            conda-forge/osx-arm64::certifi-2022.5~ --> conda-forge/noarch::certifi-2022.12.7-pyhd8ed1ab_0\n",
      "  openssl                                 1.1.1o-ha287fd2_0 --> 1.1.1s-h03a7124_1\n",
      "\n",
      "\n",
      "\n",
      "Downloading and Extracting Packages\n",
      "libzip-1.9.2         | 114 KB    | ##################################### | 100% \n",
      "libpng-1.6.38        | 297 KB    | ##################################### | 100% \n",
      "libdeflate-1.13      | 60 KB     | ##################################### | 100% \n",
      "libtiff-4.4.0        | 587 KB    | ##################################### | 100% \n",
      "eccodes-2.26.0       | 4.5 MB    | ##################################### | 100% \n",
      "openssl-1.1.1s       | 1.5 MB    | ##################################### | 100% \n",
      "pyproj-3.4.0         | 423 KB    | ##################################### | 100% \n",
      "proj-9.0.1           | 2.7 MB    | ##################################### | 100% \n",
      "libnetcdf-4.8.1      | 1.3 MB    | ##################################### | 100% \n",
      "pygrib-2.1.4         | 176 KB    | ##################################### | 100% \n",
      "hdf4-4.2.15          | 906 KB    | ##################################### | 100% \n",
      "curl-7.83.1          | 145 KB    | ##################################### | 100% \n",
      "Preparing transaction: done\n",
      "Verifying transaction: done\n",
      "Executing transaction: done\n"
     ]
    }
   ],
   "source": [
    "!conda install -c conda-forge pygrib -y"
   ]
  },
  {
   "cell_type": "code",
   "execution_count": 3,
   "id": "9dd5a2a3-c75f-4971-b10e-96c3cf94405a",
   "metadata": {},
   "outputs": [
    {
     "name": "stdout",
     "output_type": "stream",
     "text": [
      "Name: pygrib\n",
      "Version: 2.1.4\n",
      "Summary: Python module for reading/writing GRIB files\n",
      "Home-page: https://github.com/jswhit/pygrib\n",
      "Author: Jeff Whitaker\n",
      "Author-email: jeffrey.s.whitaker@noaa.gov\n",
      "License: License :: OSI Approved :: MIT License\n",
      "Location: /Users/limingzhou/miniforge3/lib/python3.9/site-packages\n",
      "Requires: numpy, pyproj\n",
      "Required-by: \n"
     ]
    }
   ],
   "source": [
    "!pip show pygrib"
   ]
  },
  {
   "cell_type": "code",
   "execution_count": null,
   "id": "7dc9aa6e-1920-4973-bc4b-be9bc25d6792",
   "metadata": {},
   "outputs": [],
   "source": []
  }
 ],
 "metadata": {
  "kernelspec": {
   "display_name": "energy_x86",
   "language": "python",
   "name": "energy_x86"
  },
  "language_info": {
   "codemirror_mode": {
    "name": "ipython",
    "version": 3
   },
   "file_extension": ".py",
   "mimetype": "text/x-python",
   "name": "python",
   "nbconvert_exporter": "python",
   "pygments_lexer": "ipython3",
   "version": "3.9.13"
  }
 },
 "nbformat": 4,
 "nbformat_minor": 5
}
