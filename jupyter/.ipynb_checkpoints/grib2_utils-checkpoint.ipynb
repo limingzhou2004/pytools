{
 "cells": [
  {
   "cell_type": "code",
   "execution_count": 1,
   "id": "929d22e1-d355-4f79-9506-47683a32e442",
   "metadata": {},
   "outputs": [
    {
     "ename": "ModuleNotFoundError",
     "evalue": "No module named 'pygrib'",
     "output_type": "error",
     "traceback": [
      "\u001b[0;31m---------------------------------------------------------------------------\u001b[0m",
      "\u001b[0;31mModuleNotFoundError\u001b[0m                       Traceback (most recent call last)",
      "Input \u001b[0;32mIn [1]\u001b[0m, in \u001b[0;36m<cell line: 1>\u001b[0;34m()\u001b[0m\n\u001b[0;32m----> 1\u001b[0m \u001b[38;5;28;01mimport\u001b[39;00m \u001b[38;5;21;01mpygrib\u001b[39;00m\n",
      "\u001b[0;31mModuleNotFoundError\u001b[0m: No module named 'pygrib'"
     ]
    }
   ],
   "source": [
    "import pygrib"
   ]
  },
  {
   "cell_type": "code",
   "execution_count": 2,
   "id": "3dc676b8-34fd-4258-b4d7-235f80943ab3",
   "metadata": {},
   "outputs": [
    {
     "name": "stdout",
     "output_type": "stream",
     "text": [
      "\u001b[33mWARNING: Package(s) not found: pygrib\u001b[0m\u001b[33m\n",
      "\u001b[0m"
     ]
    }
   ],
   "source": [
    "!pip show pygrib"
   ]
  },
  {
   "cell_type": "code",
   "execution_count": 3,
   "id": "aa9b3d2d-cdd8-4855-ac85-8c2828c691e0",
   "metadata": {},
   "outputs": [],
   "source": [
    "hrrr_obs_path = '/Users/limingzhou/zhoul/work/energy/grib2/hrrrdata'"
   ]
  },
  {
   "cell_type": "markdown",
   "id": "88c086ef-b91c-4ba1-92e0-d8b07be854eb",
   "metadata": {},
   "source": [
    "### Get all grib files from a folder"
   ]
  },
  {
   "cell_type": "code",
   "execution_count": null,
   "id": "46c89de6-51cf-4a87-860d-d4e9c7679093",
   "metadata": {},
   "outputs": [],
   "source": []
  },
  {
   "cell_type": "markdown",
   "id": "8e7a72b6-946d-4985-9317-c459f4be0351",
   "metadata": {},
   "source": [
    "### Get the mina and max datetime"
   ]
  },
  {
   "cell_type": "code",
   "execution_count": null,
   "id": "4b06ef4f-3b6f-494b-a27c-a0bef9cf7062",
   "metadata": {},
   "outputs": [],
   "source": []
  },
  {
   "cell_type": "markdown",
   "id": "ea296516-b3fc-4d26-b02d-0c2ec7f430f1",
   "metadata": {},
   "source": [
    "### Get the missing hours"
   ]
  },
  {
   "cell_type": "code",
   "execution_count": null,
   "id": "4065b0ea-1e86-4d5f-a448-78151efee68b",
   "metadata": {},
   "outputs": [],
   "source": []
  },
  {
   "cell_type": "markdown",
   "id": "7e2fd367-8f9c-4917-9bda-05d17b6af602",
   "metadata": {},
   "source": [
    "### Extract a rectangle, based on the four corners"
   ]
  },
  {
   "cell_type": "code",
   "execution_count": null,
   "id": "37baeb03-5fd9-4bdf-929c-87a389bab4d5",
   "metadata": {},
   "outputs": [],
   "source": []
  }
 ],
 "metadata": {
  "kernelspec": {
   "display_name": "energy2",
   "language": "python",
   "name": "energy2"
  },
  "language_info": {
   "codemirror_mode": {
    "name": "ipython",
    "version": 3
   },
   "file_extension": ".py",
   "mimetype": "text/x-python",
   "name": "python",
   "nbconvert_exporter": "python",
   "pygments_lexer": "ipython3",
   "version": "3.9.13"
  }
 },
 "nbformat": 4,
 "nbformat_minor": 5
}
