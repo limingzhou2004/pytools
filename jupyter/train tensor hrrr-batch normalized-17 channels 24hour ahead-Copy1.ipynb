{
 "cells": [
  {
   "cell_type": "code",
   "execution_count": 1,
   "metadata": {},
   "outputs": [],
   "source": [
    "%matplotlib inline\n",
    "#added batch normalization"
   ]
  },
  {
   "cell_type": "code",
   "execution_count": 2,
   "metadata": {},
   "outputs": [],
   "source": [
    "import tensorflow as tf\n",
    "import tensorlayer as tl\n",
    "import numpy as np\n",
    "import pandas as pd\n",
    "from scipy.ndimage.interpolation import shift\n",
    "import matplotlib.pyplot as plt\n",
    "import time\n",
    "from sklearn.model_selection import train_test_split\n",
    "import math"
   ]
  },
  {
   "cell_type": "markdown",
   "metadata": {},
   "source": [
    "### Load Data"
   ]
  },
  {
   "cell_type": "code",
   "execution_count": 3,
   "metadata": {},
   "outputs": [
    {
     "data": {
      "text/plain": [
       "((8608, 9), (8608, 169))"
      ]
     },
     "execution_count": 3,
     "metadata": {},
     "output_type": "execute_result"
    }
   ],
   "source": [
    "def to_TFFloat(x):\n",
    "    return tf.to_float(x,name='ToFloat')\n",
    "\n",
    "prj_folder=\"/Users/limingzhou/zhoul/tools/docker/projects/tensorflow/\"\n",
    "weather_array=np.load(\"npydata/C_weather_array.npy\")#.astype(dtype=np.float)\n",
    "load_array=np.load(\"npydata/C_load_array24.npy\")#.astype(dtype=np.float)\n",
    "calendar_array=np.load(\"npydata/C_calendar_array.npy\")#.astype(dtype=np.float)\n",
    "weather_array.dtype,load_array.dtype\n",
    "calendar_array.shape,load_array.shape\n",
    "#load_array.shape,weather_array.shape"
   ]
  },
  {
   "cell_type": "code",
   "execution_count": 4,
   "metadata": {},
   "outputs": [
    {
     "data": {
      "text/plain": [
       "(8608, 34, 34, 17)"
      ]
     },
     "execution_count": 4,
     "metadata": {},
     "output_type": "execute_result"
    }
   ],
   "source": [
    "weather_array=np.delete(weather_array[:,:,:,:],[10,11],axis=3)\n",
    "weather_array.shape"
   ]
  },
  {
   "cell_type": "markdown",
   "metadata": {},
   "source": [
    "### Standardize"
   ]
  },
  {
   "cell_type": "code",
   "execution_count": 5,
   "metadata": {},
   "outputs": [],
   "source": [
    "def standardize(data,mean,std):\n",
    "    return (data-mean)/std\n",
    "calendar_array[:,2].max()\n",
    "week_cos=np.cos(np.mod(calendar_array[:,0],7)/7.0*np.pi*2).reshape((-1,1))\n",
    "week_sin=np.sin(np.mod(calendar_array[:,0],7)/7.0*np.pi*2).reshape((-1,1))\n",
    "hour_cos=np.cos(np.mod(calendar_array[:,1],24)/24.0*np.pi*2).reshape((-1,1))\n",
    "hour_sin=np.sin(np.mod(calendar_array[:,1],24)/24.0*np.pi*2).reshape((-1,1))\n",
    "calendar_array=np.hstack([week_cos,week_sin,hour_cos,hour_sin,calendar_array[:,2:]])    \n",
    "#calendar_array=calendar_array.reshape(calendar_array.shape+(1,))"
   ]
  },
  {
   "cell_type": "code",
   "execution_count": 6,
   "metadata": {},
   "outputs": [],
   "source": [
    "w_mean=np.mean(weather_array,axis=(0,1,2)) \n",
    "#w_std=np.std(weather_array,axis=(0,1,2))  \n",
    "w_min=np.min(weather_array,axis=(0,1,2))\n",
    "w_max=np.max(weather_array,axis=(0,1,2))"
   ]
  },
  {
   "cell_type": "code",
   "execution_count": 7,
   "metadata": {},
   "outputs": [],
   "source": [
    "w_mean=w_min\n",
    "w_std=w_max-w_min\n",
    "para=np.vstack([w_mean,w_std]).T\n",
    "\n"
   ]
  },
  {
   "cell_type": "code",
   "execution_count": 8,
   "metadata": {},
   "outputs": [],
   "source": [
    "for i in range(0,para.shape[0]) :\n",
    "    weather_array[:,:,:,i]=(weather_array[:,:,:,i]-para[i,0])/para[i,1]"
   ]
  },
  {
   "cell_type": "code",
   "execution_count": 9,
   "metadata": {},
   "outputs": [
    {
     "data": {
      "text/plain": [
       "60000.0"
      ]
     },
     "execution_count": 9,
     "metadata": {},
     "output_type": "execute_result"
    }
   ],
   "source": [
    "para[10,1]\n",
    "#w_mean[[1,2]]="
   ]
  },
  {
   "cell_type": "code",
   "execution_count": 10,
   "metadata": {},
   "outputs": [],
   "source": [
    "l_mean=np.mean(load_array[:,0])\n",
    "l_std=np.std(load_array[:,0])\n",
    "l_min=np.min(load_array[:,0])\n",
    "l_max=np.max(load_array[:,0])\n",
    "l_mean=l_min\n",
    "l_std=l_max-l_min\n",
    "load_array=(load_array-l_mean)/l_std\n",
    "load_array=load_array.reshape(load_array.shape+(1,))"
   ]
  },
  {
   "cell_type": "code",
   "execution_count": 11,
   "metadata": {},
   "outputs": [
    {
     "data": {
      "text/plain": [
       "(841.4, 1350.9999)"
      ]
     },
     "execution_count": 11,
     "metadata": {},
     "output_type": "execute_result"
    }
   ],
   "source": [
    "l_mean,l_std\n",
    "\n",
    "#load_array[:,2].std()\n",
    "#plt.plot(weather_array[:,0,0,2],load_array[:,0],\".\")\n"
   ]
  },
  {
   "cell_type": "code",
   "execution_count": 12,
   "metadata": {},
   "outputs": [
    {
     "data": {
      "text/plain": [
       "[<matplotlib.lines.Line2D at 0x1c34533518>]"
      ]
     },
     "execution_count": 12,
     "metadata": {},
     "output_type": "execute_result"
    },
    {
     "data": {
      "image/png": "[encoded data removed]",
      "text/plain": [
       "<Figure size 432x288 with 1 Axes>"
      ]
     },
     "metadata": {},
     "output_type": "display_data"
    }
   ],
   "source": [
    "plt.plot(load_array[:,0])"
   ]
  },
  {
   "cell_type": "code",
   "execution_count": 13,
   "metadata": {},
   "outputs": [
    {
     "data": {
      "text/plain": [
       "((8608, 11), (8608, 169, 1), (8608, 34, 34, 17), (6886,), (1722,))"
      ]
     },
     "execution_count": 13,
     "metadata": {},
     "output_type": "execute_result"
    }
   ],
   "source": [
    "nn=calendar_array.shape[0]\n",
    "ind=np.array(list(range(0,nn)))\n",
    "ind_train, ind_test, y_train, y_test = train_test_split(ind, load_array[:,0].reshape(-1), test_size=0.2, random_state=0)\n",
    "\n",
    "calendar_array.shape,load_array.shape,weather_array.shape,y_train.shape,y_test.shape"
   ]
  },
  {
   "cell_type": "markdown",
   "metadata": {},
   "source": [
    "### Define __**model**__"
   ]
  },
  {
   "cell_type": "code",
   "execution_count": 14,
   "metadata": {},
   "outputs": [],
   "source": [
    "c_dim=calendar_array.shape\n",
    "w_dim=weather_array.shape\n",
    "l_dim=load_array.shape\n",
    "#b_init=tf.random_normal_initializer(stddev=1)#tf.constant_initializer(value=0.0)\n",
    "\n",
    "act_func=tl.act.swish    #tf.nn.relu\n",
    "keep_frac_weather=0.9\n",
    "keep_frac_load=0.9\n",
    "\n",
    "sess = tf.InteractiveSession()\n",
    "weather_place=tf.placeholder(tf.float32,shape=[None,34,34,17],name='weather')\n",
    "yload_place=tf.placeholder(tf.float32,shape=[None,1],name='y_load')\n",
    "xload_place=tf.placeholder(tf.float32,shape=[None,24,1],name='x_load')\n",
    "calendar_place=tf.placeholder(tf.float32,shape=[None,c_dim[1]],name='calendar')\n",
    "\n"
   ]
  },
  {
   "cell_type": "code",
   "execution_count": 15,
   "metadata": {},
   "outputs": [],
   "source": [
    "def hrrrm(weather_place,calendar_place,xload_place, is_train=True, reuse=False):\n",
    "    with tf.variable_scope(\"HRRRM\", reuse=reuse):\n",
    "        wInput=tl.layers.InputLayer(weather_place,name='weatherInput')\n",
    "        cInput=tl.layers.InputLayer(calendar_place,name='calendarInput')\n",
    "        lInput=tl.layers.InputLayer(xload_place,name='lagLoadInput')\n",
    "        cNetwork=tl.layers.DenseLayer(prev_layer=cInput, n_units=30,act=act_func, name='calendar1')\n",
    "        cNetwork=tl.layers.DenseLayer(prev_layer=cNetwork,n_units=8,act=act_func,name='calendar2')\n",
    "        lNetwork=tl.layers.Conv1dLayer(prev_layer=lInput,shape=(6,1,6),stride=1,act=act_func,name='lagload1')\n",
    "        #lNetwork=tl.layers.DropoutLayer(layer=lNetwork,keep=0.99,name=\"drop_lcnn2\")\n",
    "        lNetwork=tl.layers.Conv1dLayer(prev_layer=lNetwork,shape=(4,6,3),stride=1,act=act_func,name='lagload2')\n",
    "        lNetwork=tl.layers.FlattenLayer(prev_layer=lNetwork,name='flatten_l')\n",
    "        lNetwork=tl.layers.DropoutLayer(prev_layer=lNetwork,keep=keep_frac_load,name='drop_l')\n",
    "        #strides=[batch, height, width, channels]\n",
    "        wNetwork=tl.layers.Conv2dLayer(prev_layer=wInput,shape=(5,5,17,51),strides=(1,3,3,1),act=act_func,name=\"conv2D_1\")\n",
    "        wNetwork=tl.layers.BatchNormLayer(prev_layer=wNetwork,is_train=is_train,name=\"bacthNorm1\")\n",
    "        wNetwork=tl.layers.DropoutLayer(prev_layer=wNetwork,keep=0.9,name=\"drop_wcnn1\")\n",
    "        wNetwork=tl.layers.Conv2dLayer(prev_layer=wNetwork,shape=(5,5,51,8),strides=(1,3,3,1),act=act_func,name=\"conv2D_2\")\n",
    "        wNetwork=tl.layers.BatchNormLayer(prev_layer=wNetwork,is_train=is_train,name=\"bacthNorm2\")\n",
    "        #wNetwork=tl.layers.DropoutLayer(layer=wNetwork,keep=0.9,name=\"drop_wcnn2\")\n",
    "        wNetwork=tl.layers.FlattenLayer(prev_layer=wNetwork, name='flatten_w')\n",
    "        wNetwork=tl.layers.DropoutLayer(prev_layer=wNetwork,keep=keep_frac_weather,name=\"drop_w\")\n",
    "        network=tl.layers.ConcatLayer([cNetwork,lNetwork,wNetwork], concat_dim=1, name ='concat_layer')\n",
    "        network=tl.layers.DenseLayer(prev_layer=network,n_units=320,act=act_func,name=\"dense1\")#b_init=. if blank, skipped\n",
    "        network=tl.layers.DropoutLayer(prev_layer=network,keep=0.9,name=\"drop_dense\")\n",
    "        network = tl.layers.DenseLayer(network, 240, act=act_func, name='output0')\n",
    "        network = tl.layers.DenseLayer(network, 120, act=act_func, name='output1')\n",
    "        network = tl.layers.DenseLayer(network, 60, act=act_func, name='output2')\n",
    "        network = tl.layers.DenseLayer(network, 1, act=act_func, name='output')\n",
    "        return network,network.outputs"
   ]
  },
  {
   "cell_type": "code",
   "execution_count": 16,
   "metadata": {},
   "outputs": [
    {
     "data": {
      "text/plain": [
       "(6886,)"
      ]
     },
     "execution_count": 16,
     "metadata": {},
     "output_type": "execute_result"
    }
   ],
   "source": [
    "y_train.shape"
   ]
  },
  {
   "cell_type": "code",
   "execution_count": 17,
   "metadata": {},
   "outputs": [
    {
     "name": "stderr",
     "output_type": "stream",
     "text": [
      "[TL] InputLayer  HRRRM/weatherInput: (?, 34, 34, 17)\n",
      "[TL] InputLayer  HRRRM/calendarInput: (?, 11)\n",
      "[TL] InputLayer  HRRRM/lagLoadInput: (?, 24, 1)\n",
      "[TL] DenseLayer  calendar1: 30 swish\n",
      "[TL] DenseLayer  calendar2: 8 swish\n",
      "[TL] Conv1dLayer lagload1: shape:(6, 1, 6) stride:1 pad:SAME act:swish\n",
      "[TL] Conv1dLayer lagload2: shape:(4, 6, 3) stride:1 pad:SAME act:swish\n",
      "[TL] FlattenLayer HRRRM/flatten_l: 72\n",
      "[TL] DropoutLayer drop_l: keep:0.900000 is_fix:False\n",
      "[TL] Conv2dLayer conv2D_1: shape:(5, 5, 17, 51) strides:(1, 3, 3, 1) pad:SAME act:swish\n",
      "[TL] BatchNormLayer bacthNorm1: decay:0.900000 epsilon:0.000010 act:identity is_train:True\n",
      "[TL] DropoutLayer drop_wcnn1: keep:0.900000 is_fix:False\n",
      "[TL] Conv2dLayer conv2D_2: shape:(5, 5, 51, 8) strides:(1, 3, 3, 1) pad:SAME act:swish\n",
      "[TL] BatchNormLayer bacthNorm2: decay:0.900000 epsilon:0.000010 act:identity is_train:True\n",
      "[TL] FlattenLayer HRRRM/flatten_w: 128\n",
      "[TL] DropoutLayer drop_w: keep:0.900000 is_fix:False\n",
      "[TL] ConcatLayer HRRRM/concat_layer: axis: 1\n",
      "[TL] DenseLayer  dense1: 320 swish\n",
      "[TL] DropoutLayer drop_dense: keep:0.900000 is_fix:False\n",
      "[TL] DenseLayer  output0: 240 swish\n",
      "[TL] DenseLayer  output1: 120 swish\n",
      "[TL] DenseLayer  output2: 60 swish\n",
      "[TL] DenseLayer  output: 1 swish\n",
      "[TL] InputLayer  HRRRM/weatherInput: (?, 34, 34, 17)\n",
      "[TL] InputLayer  HRRRM/calendarInput: (?, 11)\n",
      "[TL] InputLayer  HRRRM/lagLoadInput: (?, 24, 1)\n",
      "[TL] DenseLayer  calendar1: 30 swish\n",
      "[TL] DenseLayer  calendar2: 8 swish\n",
      "[TL] Conv1dLayer lagload1: shape:(6, 1, 6) stride:1 pad:SAME act:swish\n",
      "[TL] Conv1dLayer lagload2: shape:(4, 6, 3) stride:1 pad:SAME act:swish\n",
      "[TL] FlattenLayer HRRRM/flatten_l: 72\n",
      "[TL] DropoutLayer drop_l: keep:0.900000 is_fix:False\n",
      "[TL] Conv2dLayer conv2D_1: shape:(5, 5, 17, 51) strides:(1, 3, 3, 1) pad:SAME act:swish\n",
      "[TL] BatchNormLayer bacthNorm1: decay:0.900000 epsilon:0.000010 act:identity is_train:False\n",
      "[TL] DropoutLayer drop_wcnn1: keep:0.900000 is_fix:False\n",
      "[TL] Conv2dLayer conv2D_2: shape:(5, 5, 51, 8) strides:(1, 3, 3, 1) pad:SAME act:swish\n",
      "[TL] BatchNormLayer bacthNorm2: decay:0.900000 epsilon:0.000010 act:identity is_train:False\n",
      "[TL] FlattenLayer HRRRM/flatten_w: 128\n",
      "[TL] DropoutLayer drop_w: keep:0.900000 is_fix:False\n",
      "[TL] ConcatLayer HRRRM/concat_layer: axis: 1\n",
      "[TL] DenseLayer  dense1: 320 swish\n",
      "[TL] DropoutLayer drop_dense: keep:0.900000 is_fix:False\n",
      "[TL] DenseLayer  output0: 240 swish\n",
      "[TL] DenseLayer  output1: 120 swish\n",
      "[TL] DenseLayer  output2: 60 swish\n",
      "[TL] DenseLayer  output: 1 swish\n",
      "[TL] InputLayer  HRRRM/weatherInput: (?, 34, 34, 17)\n",
      "[TL] InputLayer  HRRRM/calendarInput: (?, 11)\n",
      "[TL] InputLayer  HRRRM/lagLoadInput: (?, 24, 1)\n",
      "[TL] DenseLayer  calendar1: 30 swish\n",
      "[TL] DenseLayer  calendar2: 8 swish\n",
      "[TL] Conv1dLayer lagload1: shape:(6, 1, 6) stride:1 pad:SAME act:swish\n",
      "[TL] Conv1dLayer lagload2: shape:(4, 6, 3) stride:1 pad:SAME act:swish\n",
      "[TL] FlattenLayer HRRRM/flatten_l: 72\n",
      "[TL] DropoutLayer drop_l: keep:0.900000 is_fix:False\n",
      "[TL] Conv2dLayer conv2D_1: shape:(5, 5, 17, 51) strides:(1, 3, 3, 1) pad:SAME act:swish\n",
      "[TL] BatchNormLayer bacthNorm1: decay:0.900000 epsilon:0.000010 act:identity is_train:False\n",
      "[TL] DropoutLayer drop_wcnn1: keep:0.900000 is_fix:False\n",
      "[TL] Conv2dLayer conv2D_2: shape:(5, 5, 51, 8) strides:(1, 3, 3, 1) pad:SAME act:swish\n",
      "[TL] BatchNormLayer bacthNorm2: decay:0.900000 epsilon:0.000010 act:identity is_train:False\n",
      "[TL] FlattenLayer HRRRM/flatten_w: 128\n",
      "[TL] DropoutLayer drop_w: keep:0.900000 is_fix:False\n",
      "[TL] ConcatLayer HRRRM/concat_layer: axis: 1\n",
      "[TL] DenseLayer  dense1: 320 swish\n",
      "[TL] DropoutLayer drop_dense: keep:0.900000 is_fix:False\n",
      "[TL] DenseLayer  output0: 240 swish\n",
      "[TL] DenseLayer  output1: 120 swish\n",
      "[TL] DenseLayer  output2: 60 swish\n",
      "[TL] DenseLayer  output: 1 swish\n"
     ]
    }
   ],
   "source": [
    "batch_size=100\n",
    "\n",
    "#get the network\n",
    "#y = network.outputs\n",
    "network,y=hrrrm(weather_place,calendar_place,xload_place,is_train=True,reuse=False)\n",
    "y=tf.transpose(y)\n",
    "y_=tf.placeholder(tf.float32,shape=[None])\n",
    "acc= tl.cost.mean_squared_error(y, y_,is_mean=True)\n",
    "cost = tl.cost.absolute_difference_error(y,y_,is_mean=True)\n",
    "#y_op = tf.argmax(tf.nn.softmax(y), 1)\n",
    "#cost = cost \n",
    "#+ tf.contrib.layers.l2_regularizer(0.01)(network.all_params[-2])\n",
    "#+ tf.contrib.layers.l2_regularizer(0.01)(network.all_params[-1])\n",
    "\n",
    "\n",
    "#max_norm=0\n",
    "#for w in tl.layers.get_variables_with_name('W', train_only=True, printable=False):\n",
    "#    max_norm += tl.cost.maxnorm_regularizer(1)(w)\n",
    "#cost=cost+max_norm    \n",
    "train_params = network.all_params\n",
    "learning_rate = 0.0005\n",
    "train_op = tf.train.AdamOptimizer(learning_rate, beta1=0.9, beta2=0.99,\n",
    "                            epsilon=1e-08, use_locking=False).minimize(cost, var_list = train_params)\n",
    "tl.layers.initialize_global_variables(sess)\n",
    "\n",
    "\n",
    "\n",
    "network_train,y_train_train=hrrrm(weather_place,calendar_place,xload_place,is_train=False,reuse=True)\n",
    "network_test,y_test_test=hrrrm(weather_place,calendar_place,xload_place,is_train=False,reuse=True)\n",
    "y_train_train=tf.transpose(y_train_train)\n",
    "y_test_test=tf.transpose(y_test_test)\n",
    "acc_train= tl.cost.mean_squared_error(y_train_train, y_,is_mean=True)\n",
    "cost_train = tl.cost.absolute_difference_error(y_train_train,y_,is_mean=True)\n",
    "acc_test= tl.cost.mean_squared_error(y_test_test, y_,is_mean=True)\n",
    "cost_test = tl.cost.absolute_difference_error(y_test_test,y_,is_mean=True)\n"
   ]
  },
  {
   "cell_type": "markdown",
   "metadata": {},
   "source": [
    "#### Train and test to decide epoch number"
   ]
  },
  {
   "cell_type": "code",
   "execution_count": 18,
   "metadata": {
    "scrolled": false
   },
   "outputs": [
    {
     "name": "stdout",
     "output_type": "stream",
     "text": [
      "Epoch 1 of 1000 took 3.501015s\n",
      "   train loss: 0.094249\n",
      "   val loss: 0.096943\n",
      "Epoch 10 of 1000 took 5.359915s\n",
      "   train loss: 0.042635\n",
      "   val loss: 0.046411\n"
     ]
    },
    {
     "name": "stderr",
     "output_type": "stream",
     "text": [
      "/Users/limingzhou/anaconda3/envs/tensor/lib/python3.6/site-packages/matplotlib/cbook/deprecation.py:107: MatplotlibDeprecationWarning: Adding an axes using the same arguments as a previous axes currently reuses the earlier instance.  In a future version, a new instance will always be created and returned.  Meanwhile, this warning can be suppressed, and the future behavior ensured, by passing a unique label to each axes instance.\n",
      "  warnings.warn(message, mplDeprecation, stacklevel=1)\n"
     ]
    },
    {
     "name": "stdout",
     "output_type": "stream",
     "text": [
      "Epoch 20 of 1000 took 5.294479s\n",
      "   train loss: 0.031660\n",
      "   val loss: 0.034070\n",
      "Epoch 30 of 1000 took 5.247096s\n",
      "   train loss: 0.026538\n",
      "   val loss: 0.027926\n",
      "Epoch 40 of 1000 took 5.328205s\n",
      "   train loss: 0.022587\n",
      "   val loss: 0.025134\n",
      "Epoch 50 of 1000 took 5.317063s\n",
      "   train loss: 0.021071\n",
      "   val loss: 0.024685\n",
      "Epoch 60 of 1000 took 5.308367s\n",
      "   train loss: 0.018003\n",
      "   val loss: 0.022371\n",
      "Epoch 70 of 1000 took 5.163443s\n",
      "   train loss: 0.016767\n",
      "   val loss: 0.020141\n",
      "Epoch 80 of 1000 took 5.270762s\n",
      "   train loss: 0.014665\n",
      "   val loss: 0.018959\n",
      "Epoch 90 of 1000 took 5.173899s\n",
      "   train loss: 0.016291\n",
      "   val loss: 0.019561\n",
      "Epoch 100 of 1000 took 5.174510s\n",
      "   train loss: 0.017276\n",
      "   val loss: 0.022286\n",
      "Epoch 110 of 1000 took 5.167334s\n",
      "   train loss: 0.012538\n",
      "   val loss: 0.018332\n",
      "Epoch 120 of 1000 took 5.156944s\n",
      "   train loss: 0.011241\n",
      "   val loss: 0.015871\n",
      "Epoch 130 of 1000 took 5.151268s\n",
      "   train loss: 0.012992\n",
      "   val loss: 0.016306\n",
      "Epoch 140 of 1000 took 5.163537s\n",
      "   train loss: 0.014096\n",
      "   val loss: 0.018194\n",
      "Epoch 150 of 1000 took 5.242162s\n",
      "   train loss: 0.010361\n",
      "   val loss: 0.015498\n",
      "Epoch 160 of 1000 took 5.179898s\n",
      "   train loss: 0.009644\n",
      "   val loss: 0.014467\n",
      "Epoch 170 of 1000 took 5.263415s\n",
      "   train loss: 0.009169\n",
      "   val loss: 0.014904\n",
      "Epoch 180 of 1000 took 5.205106s\n",
      "   train loss: 0.009388\n",
      "   val loss: 0.014394\n",
      "Epoch 190 of 1000 took 5.260435s\n",
      "   train loss: 0.011342\n",
      "   val loss: 0.015660\n",
      "Epoch 200 of 1000 took 5.236053s\n",
      "   train loss: 0.009503\n",
      "   val loss: 0.013638\n",
      "Epoch 210 of 1000 took 5.179759s\n",
      "   train loss: 0.010224\n",
      "   val loss: 0.014833\n",
      "Epoch 220 of 1000 took 5.205913s\n",
      "   train loss: 0.007849\n",
      "   val loss: 0.012769\n",
      "Epoch 230 of 1000 took 5.224783s\n",
      "   train loss: 0.007930\n",
      "   val loss: 0.013158\n",
      "Epoch 240 of 1000 took 5.257534s\n",
      "   train loss: 0.009355\n",
      "   val loss: 0.014082\n",
      "Epoch 250 of 1000 took 5.215433s\n",
      "   train loss: 0.006919\n",
      "   val loss: 0.012111\n",
      "Epoch 260 of 1000 took 5.217332s\n",
      "   train loss: 0.007175\n",
      "   val loss: 0.012466\n",
      "Epoch 270 of 1000 took 5.190424s\n",
      "   train loss: 0.007873\n",
      "   val loss: 0.013113\n",
      "Epoch 280 of 1000 took 5.178152s\n",
      "   train loss: 0.007619\n",
      "   val loss: 0.012922\n",
      "Epoch 290 of 1000 took 5.251389s\n",
      "   train loss: 0.006503\n",
      "   val loss: 0.011763\n",
      "Epoch 300 of 1000 took 5.209114s\n",
      "   train loss: 0.009379\n",
      "   val loss: 0.014023\n",
      "Epoch 310 of 1000 took 5.192001s\n",
      "   train loss: 0.007094\n",
      "   val loss: 0.011614\n",
      "Epoch 320 of 1000 took 5.297436s\n",
      "   train loss: 0.006293\n",
      "   val loss: 0.011866\n",
      "Epoch 330 of 1000 took 5.200585s\n",
      "   train loss: 0.006698\n",
      "   val loss: 0.011749\n",
      "Epoch 340 of 1000 took 5.164657s\n",
      "   train loss: 0.006398\n",
      "   val loss: 0.011551\n",
      "Epoch 350 of 1000 took 5.384699s\n",
      "   train loss: 0.006624\n",
      "   val loss: 0.011601\n",
      "Epoch 360 of 1000 took 5.237666s\n",
      "   train loss: 0.006389\n",
      "   val loss: 0.011617\n",
      "Epoch 370 of 1000 took 5.184855s\n",
      "   train loss: 0.006402\n",
      "   val loss: 0.011898\n",
      "Epoch 380 of 1000 took 5.207077s\n",
      "   train loss: 0.008214\n",
      "   val loss: 0.013081\n",
      "Epoch 390 of 1000 took 5.592011s\n",
      "   train loss: 0.006080\n",
      "   val loss: 0.011680\n",
      "Epoch 400 of 1000 took 5.532690s\n",
      "   train loss: 0.005574\n",
      "   val loss: 0.011213\n",
      "Epoch 410 of 1000 took 5.647584s\n",
      "   train loss: 0.006177\n",
      "   val loss: 0.011475\n",
      "Epoch 420 of 1000 took 5.585371s\n",
      "   train loss: 0.006519\n",
      "   val loss: 0.011759\n",
      "Epoch 430 of 1000 took 5.620118s\n",
      "   train loss: 0.005772\n",
      "   val loss: 0.011241\n",
      "Epoch 440 of 1000 took 5.521667s\n",
      "   train loss: 0.005794\n",
      "   val loss: 0.011223\n",
      "Epoch 450 of 1000 took 5.807584s\n",
      "   train loss: 0.005876\n",
      "   val loss: 0.011121\n",
      "Epoch 460 of 1000 took 5.537157s\n",
      "   train loss: 0.005872\n",
      "   val loss: 0.011107\n",
      "Epoch 470 of 1000 took 5.425767s\n",
      "   train loss: 0.005832\n",
      "   val loss: 0.011017\n",
      "Epoch 480 of 1000 took 5.518073s\n",
      "   train loss: 0.005343\n",
      "   val loss: 0.011062\n",
      "Epoch 490 of 1000 took 5.574544s\n",
      "   train loss: 0.005345\n",
      "   val loss: 0.010868\n",
      "Epoch 500 of 1000 took 5.535654s\n",
      "   train loss: 0.005447\n",
      "   val loss: 0.010618\n",
      "Epoch 510 of 1000 took 5.546566s\n",
      "   train loss: 0.005313\n",
      "   val loss: 0.010801\n",
      "Epoch 520 of 1000 took 5.970486s\n",
      "   train loss: 0.005370\n",
      "   val loss: 0.010833\n",
      "Epoch 530 of 1000 took 5.569390s\n",
      "   train loss: 0.004884\n",
      "   val loss: 0.010641\n",
      "Epoch 540 of 1000 took 5.276302s\n",
      "   train loss: 0.005882\n",
      "   val loss: 0.011100\n",
      "Epoch 550 of 1000 took 5.240058s\n",
      "   train loss: 0.005481\n",
      "   val loss: 0.010822\n",
      "Epoch 560 of 1000 took 5.296700s\n",
      "   train loss: 0.006721\n",
      "   val loss: 0.011669\n",
      "Epoch 570 of 1000 took 5.219479s\n",
      "   train loss: 0.004989\n",
      "   val loss: 0.010830\n",
      "Epoch 580 of 1000 took 5.229395s\n",
      "   train loss: 0.005515\n",
      "   val loss: 0.011052\n",
      "Epoch 590 of 1000 took 5.226014s\n",
      "   train loss: 0.005235\n",
      "   val loss: 0.010695\n",
      "Epoch 600 of 1000 took 5.281811s\n",
      "   train loss: 0.004724\n",
      "   val loss: 0.010812\n",
      "Epoch 610 of 1000 took 5.235072s\n",
      "   train loss: 0.005154\n",
      "   val loss: 0.010759\n",
      "Epoch 620 of 1000 took 5.226558s\n",
      "   train loss: 0.005279\n",
      "   val loss: 0.010932\n",
      "Epoch 630 of 1000 took 5.481804s\n",
      "   train loss: 0.005095\n",
      "   val loss: 0.010645\n",
      "Epoch 640 of 1000 took 5.268638s\n",
      "   train loss: 0.004763\n",
      "   val loss: 0.010647\n",
      "Epoch 650 of 1000 took 5.392437s\n",
      "   train loss: 0.005210\n",
      "   val loss: 0.010503\n",
      "Epoch 660 of 1000 took 5.217905s\n",
      "   train loss: 0.004759\n",
      "   val loss: 0.010510\n",
      "Epoch 670 of 1000 took 5.362772s\n",
      "   train loss: 0.004931\n",
      "   val loss: 0.010829\n",
      "Epoch 680 of 1000 took 5.316122s\n",
      "   train loss: 0.004908\n",
      "   val loss: 0.010376\n",
      "Epoch 690 of 1000 took 5.132116s\n",
      "   train loss: 0.005098\n",
      "   val loss: 0.010894\n",
      "Epoch 700 of 1000 took 5.157098s\n",
      "   train loss: 0.004665\n",
      "   val loss: 0.010237\n",
      "Epoch 710 of 1000 took 5.224000s\n",
      "   train loss: 0.005366\n",
      "   val loss: 0.010779\n",
      "Epoch 720 of 1000 took 5.329867s\n",
      "   train loss: 0.005012\n",
      "   val loss: 0.010167\n",
      "Epoch 730 of 1000 took 5.187923s\n",
      "   train loss: 0.005374\n",
      "   val loss: 0.010559\n",
      "Epoch 740 of 1000 took 5.187036s\n",
      "   train loss: 0.005193\n",
      "   val loss: 0.010417\n",
      "Epoch 750 of 1000 took 5.210730s\n",
      "   train loss: 0.004819\n",
      "   val loss: 0.010545\n",
      "Epoch 760 of 1000 took 5.343330s\n",
      "   train loss: 0.004621\n",
      "   val loss: 0.010117\n",
      "Epoch 770 of 1000 took 5.199616s\n",
      "   train loss: 0.004443\n",
      "   val loss: 0.010473\n",
      "Epoch 780 of 1000 took 5.313501s\n",
      "   train loss: 0.004902\n",
      "   val loss: 0.010258\n",
      "Epoch 790 of 1000 took 5.303148s\n",
      "   train loss: 0.004462\n",
      "   val loss: 0.010285\n",
      "Epoch 800 of 1000 took 5.160014s\n",
      "   train loss: 0.004583\n",
      "   val loss: 0.010199\n",
      "Epoch 810 of 1000 took 5.302639s\n",
      "   train loss: 0.004655\n",
      "   val loss: 0.010122\n",
      "Epoch 820 of 1000 took 6.007653s\n",
      "   train loss: 0.004638\n",
      "   val loss: 0.010090\n",
      "Epoch 830 of 1000 took 5.872145s\n",
      "   train loss: 0.004294\n",
      "   val loss: 0.009805\n",
      "Epoch 840 of 1000 took 5.662230s\n",
      "   train loss: 0.005432\n",
      "   val loss: 0.010262\n",
      "Epoch 850 of 1000 took 5.507244s\n",
      "   train loss: 0.004871\n",
      "   val loss: 0.010131\n",
      "Epoch 860 of 1000 took 5.625056s\n",
      "   train loss: 0.004612\n",
      "   val loss: 0.009940\n",
      "Epoch 870 of 1000 took 5.570947s\n",
      "   train loss: 0.004529\n",
      "   val loss: 0.010225\n",
      "Epoch 880 of 1000 took 5.912568s\n",
      "   train loss: 0.004353\n",
      "   val loss: 0.010236\n",
      "Epoch 890 of 1000 took 5.487985s\n",
      "   train loss: 0.004567\n",
      "   val loss: 0.010157\n",
      "Epoch 900 of 1000 took 5.453480s\n",
      "   train loss: 0.004130\n",
      "   val loss: 0.010177\n",
      "Epoch 910 of 1000 took 5.487666s\n",
      "   train loss: 0.005303\n",
      "   val loss: 0.010580\n",
      "Epoch 920 of 1000 took 5.435034s\n",
      "   train loss: 0.004285\n",
      "   val loss: 0.010017\n",
      "Epoch 930 of 1000 took 5.632501s\n",
      "   train loss: 0.004362\n",
      "   val loss: 0.009842\n",
      "Epoch 940 of 1000 took 5.546613s\n",
      "   train loss: 0.004460\n",
      "   val loss: 0.010216\n",
      "Epoch 950 of 1000 took 5.455012s\n",
      "   train loss: 0.004072\n",
      "   val loss: 0.009777\n",
      "Epoch 960 of 1000 took 5.453339s\n",
      "   train loss: 0.004308\n",
      "   val loss: 0.009925\n",
      "Epoch 970 of 1000 took 5.488628s\n",
      "   train loss: 0.003964\n",
      "   val loss: 0.009992\n",
      "Epoch 980 of 1000 took 5.574739s\n",
      "   train loss: 0.004060\n",
      "   val loss: 0.009887\n",
      "Epoch 990 of 1000 took 5.451472s\n",
      "   train loss: 0.004314\n",
      "   val loss: 0.010018\n",
      "Epoch 1000 of 1000 took 5.429940s\n",
      "   train loss: 0.004112\n",
      "   val loss: 0.009793\n"
     ]
    },
    {
     "data": {
      "image/png": "[encoded data removed]",
      "text/plain": [
       "<Figure size 432x288 with 1 Axes>"
      ]
     },
     "metadata": {},
     "output_type": "display_data"
    }
   ],
   "source": [
    "n_epoch = 1000\n",
    "print_freq = 10\n",
    "error_collect=np.zeros((int(n_epoch/print_freq)+1,2))\n",
    "for epoch in range(n_epoch):\n",
    "    start_time = time.time()\n",
    "    for ind_train_a, y_train_a in tl.iterate.minibatches(ind_train, y_train, batch_size, shuffle=True):\n",
    "            feed_dict= {calendar_place:calendar_array[ind_train_a,:], \n",
    "                        weather_place:weather_array[ind_train_a,:,:,:],\n",
    "                        xload_place:load_array[ind_train_a,1:25], \n",
    "                        y_:y_train_a}\n",
    "            feed_dict.update(network.all_drop)  # enable noise layers\n",
    "            sess.run(train_op, feed_dict=feed_dict)   \n",
    "    #export logs for accuracies per frequency\n",
    "    if epoch + 1 == 1 or (epoch + 1) % print_freq == 0:\n",
    "        print(\"Epoch %d of %d took %fs\" % (epoch + 1, n_epoch, time.time() - start_time))\n",
    "        train_loss, train_acc, n_batch = 0, 0, 0\n",
    "        #train error\n",
    "        for ind_train_train_a, y_train_train_a in tl.iterate.minibatches(ind_train, y_train, batch_size, shuffle=True):\n",
    "            \n",
    "            feed_dict= {calendar_place:calendar_array[ind_train_train_a,:], \n",
    "                        weather_place:weather_array[ind_train_train_a,:,:,:],\n",
    "                        xload_place:load_array[ind_train_train_a,1:25], \n",
    "                        y_:y_train_train_a}            \n",
    "            dp_dict = tl.utils.dict_to_one(network.all_drop)  # disable noise layers   \n",
    "            feed_dict.update(dp_dict)            \n",
    "            \n",
    "            \n",
    "            \n",
    "            #acc_train= tl.cost.mean_squared_error(y_train, y_,is_mean=True)\n",
    "            #cost_train = tl.cost.absolute_difference_error(y_train,y_,is_mean=True)\n",
    "            err_train, ac_train = sess.run([cost,acc], feed_dict=feed_dict)\n",
    "            train_loss += err_train\n",
    "           # train_acc += ac\n",
    "            n_batch += 1\n",
    "        error_collect[math.ceil(epoch/print_freq),0]=train_loss / n_batch\n",
    "        print(\"   train loss: %f\" % (train_loss / n_batch))\n",
    "       # print(\"   train acc: %f\" % (train_acc / n_batch))\n",
    "        #test error    \n",
    "        val_loss, val_acc, n_batch = 0, 0, 0\n",
    "        for ind_val_a, y_val_a in tl.iterate.minibatches(ind_test, y_test, batch_size, shuffle=True):\n",
    "            \n",
    "            feed_dict= {calendar_place:calendar_array[ind_val_a,:], \n",
    "                        weather_place:weather_array[ind_val_a,:,:,:],\n",
    "                        xload_place:load_array[ind_val_a,1:25], \n",
    "                        y_:y_val_a}            \n",
    "            dp_dict = tl.utils.dict_to_one(network.all_drop)  # disable noise layers   \n",
    "            feed_dict.update(dp_dict)\n",
    "            \n",
    "           \n",
    "            \n",
    "           # acc_test= tl.cost.mean_squared_error(y_test, y_,is_mean=True)\n",
    "            #cost_test = tl.cost.absolute_difference_error(y_test,y_,is_mean=True)\n",
    "            err_test, ac_test = sess.run([cost, acc], feed_dict=feed_dict) \n",
    "            val_loss += err_test\n",
    "            #val_acc += ac\n",
    "            n_batch += 1\n",
    "        error_collect[math.ceil(epoch/print_freq),1]=val_loss / n_batch\n",
    "        print(\"   val loss: %f\" % (val_loss / n_batch))\n",
    "        #print(\"   val acc: %f\" % (val_acc / n_batch))\n",
    "        try:\n",
    "            tl.vis.CNN2d(network.all_params[8].eval(), second=10, \n",
    "                         saveable=True, name='cnn1_' + str(epoch + 1), fig_idx=2012)\n",
    "        except:  # pylint: disable=bare-except\n",
    "            pass\n",
    "            #print(\"You should change vis.CNN(), if you want to save the feature images for different dataset\")\n",
    "        \n",
    "            "
   ]
  },
  {
   "cell_type": "code",
   "execution_count": 19,
   "metadata": {},
   "outputs": [
    {
     "data": {
      "text/plain": [
       "0.009808362"
      ]
     },
     "execution_count": 19,
     "metadata": {},
     "output_type": "execute_result"
    }
   ],
   "source": [
    "feed_dict= {calendar_place:calendar_array[ind_test,:], \n",
    "                        weather_place:weather_array[ind_test,:,:,:],\n",
    "                        xload_place:load_array[ind_test,1:25], \n",
    "                        y_:y_test}            \n",
    "dp_dict = tl.utils.dict_to_one(network.all_drop)  # disable noise layers   \n",
    "feed_dict.update(dp_dict)\n",
    "y_pre=sess.run([y], feed_dict=feed_dict)\n",
    "\n",
    "np.abs(y_pre-y_test).mean()\n",
    "\n"
   ]
  },
  {
   "cell_type": "code",
   "execution_count": 29,
   "metadata": {},
   "outputs": [
    {
     "name": "stderr",
     "output_type": "stream",
     "text": [
      "[TL] [*] model_24hour.npz saved\n"
     ]
    }
   ],
   "source": [
    "tl.files.save_npz(network.all_params, name='model_24hour.npz', sess=sess)"
   ]
  },
  {
   "cell_type": "markdown",
   "metadata": {},
   "source": [
    "#### Final train with all data"
   ]
  },
  {
   "cell_type": "code",
   "execution_count": 20,
   "metadata": {},
   "outputs": [
    {
     "ename": "TypeError",
     "evalue": "unhashable type: 'numpy.ndarray'",
     "output_type": "error",
     "traceback": [
      "\u001b[0;31m---------------------------------------------------------------------------\u001b[0m",
      "\u001b[0;31mTypeError\u001b[0m                                 Traceback (most recent call last)",
      "\u001b[0;32m<ipython-input-20-12debdcedfaa>\u001b[0m in \u001b[0;36m<module>\u001b[0;34m()\u001b[0m\n\u001b[0;32m----> 1\u001b[0;31m \u001b[0mfeed_dict\u001b[0m\u001b[0;34m=\u001b[0m\u001b[0;34m{\u001b[0m\u001b[0mweather_place\u001b[0m\u001b[0;34m,\u001b[0m\u001b[0mweather_array\u001b[0m\u001b[0;34m}\u001b[0m\u001b[0;34m\u001b[0m\u001b[0m\n\u001b[0m\u001b[1;32m      2\u001b[0m \u001b[0mfeeder_dict\u001b[0m\u001b[0;34m.\u001b[0m\u001b[0mupdate\u001b[0m\u001b[0;34m(\u001b[0m\u001b[0;34m{\u001b[0m\u001b[0myload_place\u001b[0m\u001b[0;34m,\u001b[0m\u001b[0mload_array\u001b[0m\u001b[0;34m[\u001b[0m\u001b[0;34m:\u001b[0m\u001b[0;34m,\u001b[0m\u001b[0;36m0\u001b[0m\u001b[0;34m]\u001b[0m\u001b[0;34m}\u001b[0m\u001b[0;34m)\u001b[0m\u001b[0;34m\u001b[0m\u001b[0m\n\u001b[1;32m      3\u001b[0m \u001b[0mfeeder_dict\u001b[0m\u001b[0;34m.\u001b[0m\u001b[0mupdate\u001b[0m\u001b[0;34m(\u001b[0m\u001b[0;34m{\u001b[0m\u001b[0mxload_place\u001b[0m\u001b[0;34m,\u001b[0m\u001b[0mload_array\u001b[0m\u001b[0;34m[\u001b[0m\u001b[0;34m:\u001b[0m\u001b[0;34m,\u001b[0m\u001b[0;36m1\u001b[0m\u001b[0;34m:\u001b[0m\u001b[0;34m]\u001b[0m\u001b[0;34m}\u001b[0m\u001b[0;34m)\u001b[0m\u001b[0;34m\u001b[0m\u001b[0m\n\u001b[1;32m      4\u001b[0m \u001b[0mfeeder_dict\u001b[0m\u001b[0;34m.\u001b[0m\u001b[0mupdate\u001b[0m\u001b[0;34m(\u001b[0m\u001b[0;34m{\u001b[0m\u001b[0mcalendar_place\u001b[0m\u001b[0;34m,\u001b[0m\u001b[0mcalendar_array\u001b[0m\u001b[0;34m}\u001b[0m\u001b[0;34m)\u001b[0m\u001b[0;34m\u001b[0m\u001b[0m\n\u001b[1;32m      5\u001b[0m \u001b[0mfedder_dict\u001b[0m\u001b[0;34m.\u001b[0m\u001b[0mupdate\u001b[0m\u001b[0;34m(\u001b[0m\u001b[0mnetwork\u001b[0m\u001b[0;34m.\u001b[0m\u001b[0mall_drop\u001b[0m\u001b[0;34m)\u001b[0m\u001b[0;34m\u001b[0m\u001b[0m\n",
      "\u001b[0;31mTypeError\u001b[0m: unhashable type: 'numpy.ndarray'"
     ]
    }
   ],
   "source": [
    "feed_dict={weather_place,weather_array}\n",
    "feeder_dict.update({yload_place,load_array[:,0]})\n",
    "feeder_dict.update({xload_place,load_array[:,1:]})\n",
    "feeder_dict.update({calendar_place,calendar_array})\n",
    "fedder_dict.update(network.all_drop)\n",
    "\n",
    "# When forecasting, no drop out needed\n",
    "dp_dict = tl.utils.dict_to_one( net.all_drop ) \n",
    "feeder_dict.update(dp_dict)"
   ]
  },
  {
   "cell_type": "code",
   "execution_count": null,
   "metadata": {},
   "outputs": [],
   "source": [
    "network.print_params()"
   ]
  },
  {
   "cell_type": "code",
   "execution_count": null,
   "metadata": {},
   "outputs": [],
   "source": []
  },
  {
   "cell_type": "code",
   "execution_count": null,
   "metadata": {},
   "outputs": [],
   "source": [
    "plt.plot(y_train)\n"
   ]
  },
  {
   "cell_type": "code",
   "execution_count": null,
   "metadata": {},
   "outputs": [],
   "source": [
    "sess.close()"
   ]
  },
  {
   "cell_type": "code",
   "execution_count": null,
   "metadata": {},
   "outputs": [],
   "source": [
    "load_array.min()"
   ]
  },
  {
   "cell_type": "code",
   "execution_count": null,
   "metadata": {},
   "outputs": [],
   "source": [
    "tl.__version__"
   ]
  },
  {
   "cell_type": "code",
   "execution_count": null,
   "metadata": {},
   "outputs": [],
   "source": [
    "x = tf.placeholder(tf.float32, shape=[None, 784], name='x')\n",
    "y_ = tf.placeholder(tf.int64, shape=[None], name='y_')\n",
    "\n",
    "\n",
    "# define the network\n",
    "def mlp(x, is_train=True, reuse=False):\n",
    "    with tf.variable_scope(\"MLP\", reuse=reuse):\n",
    "        network = tl.layers.InputLayer(x, name='input')\n",
    "        network = tl.layers.DropoutLayer(network, keep=0.8, is_fix=True, is_train=is_train, name='drop1')\n",
    "        network = tl.layers.DenseLayer(network, n_units=800, act=tf.nn.relu, name='relu1')\n",
    "        network = tl.layers.DropoutLayer(network, keep=0.5, is_fix=True, is_train=is_train, name='drop2')\n",
    "        network = tl.layers.DenseLayer(network, n_units=800, act=tf.nn.relu, name='relu2')\n",
    "        network = tl.layers.DropoutLayer(network, keep=0.5, is_fix=True, is_train=is_train, name='drop3')\n",
    "        network = tl.layers.DenseLayer(network, n_units=10, act=tf.identity, name='output')\n",
    "    return network\n",
    "\n",
    "\n",
    "# define inferences\n",
    "net_train = mlp(x, is_train=True, reuse=False)\n",
    "net_test = mlp(x, is_train=False, reuse=True)"
   ]
  },
  {
   "cell_type": "code",
   "execution_count": null,
   "metadata": {},
   "outputs": [],
   "source": [
    "tl.__version__"
   ]
  },
  {
   "cell_type": "code",
   "execution_count": null,
   "metadata": {},
   "outputs": [],
   "source": [
    " for ind_train_a, y_train_a in tl.iterate.minibatches(ind_train, y_train, batch_size, shuffle=True):\n",
    "        ind_train_a"
   ]
  },
  {
   "cell_type": "code",
   "execution_count": null,
   "metadata": {},
   "outputs": [],
   "source": [
    "y_test"
   ]
  },
  {
   "cell_type": "code",
   "execution_count": null,
   "metadata": {},
   "outputs": [],
   "source": [
    "error_collect=np.zeros((int(200/10),2))"
   ]
  },
  {
   "cell_type": "code",
   "execution_count": null,
   "metadata": {},
   "outputs": [],
   "source": [
    "math.ceil(100/10)"
   ]
  },
  {
   "cell_type": "code",
   "execution_count": null,
   "metadata": {},
   "outputs": [],
   "source": [
    "math.ceil(1/100)"
   ]
  },
  {
   "cell_type": "code",
   "execution_count": 28,
   "metadata": {},
   "outputs": [],
   "source": [
    "np.save(\"epoch 24 hour\",error_collect)"
   ]
  },
  {
   "cell_type": "code",
   "execution_count": 27,
   "metadata": {},
   "outputs": [
    {
     "data": {
      "text/plain": [
       "Text(0,0.5,'Error')"
      ]
     },
     "execution_count": 27,
     "metadata": {},
     "output_type": "execute_result"
    },
    {
     "data": {
      "image/png": "[encoded data removed]",
      "text/plain": [
       "<Figure size 432x288 with 1 Axes>"
      ]
     },
     "metadata": {},
     "output_type": "display_data"
    }
   ],
   "source": [
    "epo=np.array(range(0,error_collect.shape[0]))*10\n",
    "\n",
    "plt.plot(epo,error_collect[:,0])\n",
    "plt.plot(epo,error_collect[:,1])\n",
    "plt.xlabel(\"Epoch\")\n",
    "plt.ylabel(\"Error\")"
   ]
  },
  {
   "cell_type": "code",
   "execution_count": 24,
   "metadata": {},
   "outputs": [
    {
     "data": {
      "text/plain": [
       "101"
      ]
     },
     "execution_count": 24,
     "metadata": {},
     "output_type": "execute_result"
    }
   ],
   "source": [
    "error_collect.shape[0]"
   ]
  },
  {
   "cell_type": "code",
   "execution_count": null,
   "metadata": {},
   "outputs": [],
   "source": []
  }
 ],
 "metadata": {
  "kernelspec": {
   "display_name": "Python [conda env:tensor]",
   "language": "python",
   "name": "conda-env-tensor-py"
  },
  "language_info": {
   "codemirror_mode": {
    "name": "ipython",
    "version": 3
   },
   "file_extension": ".py",
   "mimetype": "text/x-python",
   "name": "python",
   "nbconvert_exporter": "python",
   "pygments_lexer": "ipython3",
   "version": "3.6.7"
  }
 },
 "nbformat": 4,
 "nbformat_minor": 2
}
