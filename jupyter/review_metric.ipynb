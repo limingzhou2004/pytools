{
 "cells": [
  {
   "cell_type": "markdown",
   "metadata": {},
   "source": [
    "### Review metrics from CSV loggers"
   ]
  },
  {
   "cell_type": "code",
   "execution_count": 65,
   "metadata": {},
   "outputs": [],
   "source": [
    "import os.path as osp\n",
    "import os\n",
    "import pandas as pd\n",
    "\n",
    "\n",
    "os.chdir('/Users/limingzhou/zhoul/work/energy/pytools')\n",
    "\n",
    "from pytools.config import Config\n"
   ]
  },
  {
   "cell_type": "markdown",
   "metadata": {},
   "source": [
    "Tensorboard review\n",
    "tensorboard --logdir /Users/limingzhou/zhoul/work/energy/sites/albany-prod/model/tensorboard_logger"
   ]
  },
  {
   "cell_type": "code",
   "execution_count": 388,
   "metadata": {},
   "outputs": [
    {
     "name": "stdout",
     "output_type": "stream",
     "text": [
      "the latest version is 47\n"
     ]
    },
    {
     "data": {
      "text/plain": [
       "11"
      ]
     },
     "execution_count": 388,
     "metadata": {},
     "output_type": "execute_result"
    }
   ],
   "source": [
    "# load all file names in the log folder. find the latest version.\n",
    "#!ls ../pytools/pytools\n",
    "config = Config('../pytools/pytools/config/albany_prod.toml')\n",
    "log_folder = osp.join(config.site_parent_folder, 'model','csv_logger')\n",
    "\n",
    "sub_dir = [x[0] for x in os.walk(log_folder)]\n",
    "\n",
    "vers = [(f, int(f.split('/')[-1].split('_')[-1])) for f in sub_dir if f.split('/')[-1].startswith('version')]\n",
    "\n",
    "fn, ver = zip(*vers)\n",
    "max_ver = max(ver)\n",
    "ind = ver.index(max_ver)\n",
    "print(f'the latest version is {max_ver}')\n",
    "fn_last = fn[ind]\n",
    "table = pd.read_csv(osp.join(fn_last,'metrics.csv'))\n",
    "11"
   ]
  },
  {
   "cell_type": "code",
   "execution_count": 389,
   "metadata": {},
   "outputs": [
    {
     "data": {
      "text/html": [
       "<div>\n",
       "<style scoped>\n",
       "    .dataframe tbody tr th:only-of-type {\n",
       "        vertical-align: middle;\n",
       "    }\n",
       "\n",
       "    .dataframe tbody tr th {\n",
       "        vertical-align: top;\n",
       "    }\n",
       "\n",
       "    .dataframe thead th {\n",
       "        text-align: right;\n",
       "    }\n",
       "</style>\n",
       "<table border=\"1\" class=\"dataframe\">\n",
       "  <thead>\n",
       "    <tr style=\"text-align: right;\">\n",
       "      <th></th>\n",
       "      <th>epoch</th>\n",
       "      <th>step</th>\n",
       "      <th>training RMSE loss_epoch</th>\n",
       "      <th>training RMSE loss_step</th>\n",
       "      <th>val RMSE loss</th>\n",
       "    </tr>\n",
       "  </thead>\n",
       "  <tbody>\n",
       "    <tr>\n",
       "      <th>166</th>\n",
       "      <td>38</td>\n",
       "      <td>5498</td>\n",
       "      <td>0.100563</td>\n",
       "      <td>NaN</td>\n",
       "      <td>NaN</td>\n",
       "    </tr>\n",
       "    <tr>\n",
       "      <th>167</th>\n",
       "      <td>39</td>\n",
       "      <td>5499</td>\n",
       "      <td>NaN</td>\n",
       "      <td>0.089106</td>\n",
       "      <td>NaN</td>\n",
       "    </tr>\n",
       "    <tr>\n",
       "      <th>168</th>\n",
       "      <td>39</td>\n",
       "      <td>5549</td>\n",
       "      <td>NaN</td>\n",
       "      <td>0.089781</td>\n",
       "      <td>NaN</td>\n",
       "    </tr>\n",
       "    <tr>\n",
       "      <th>169</th>\n",
       "      <td>39</td>\n",
       "      <td>5599</td>\n",
       "      <td>NaN</td>\n",
       "      <td>0.088514</td>\n",
       "      <td>NaN</td>\n",
       "    </tr>\n",
       "    <tr>\n",
       "      <th>170</th>\n",
       "      <td>39</td>\n",
       "      <td>5639</td>\n",
       "      <td>NaN</td>\n",
       "      <td>NaN</td>\n",
       "      <td>0.097712</td>\n",
       "    </tr>\n",
       "    <tr>\n",
       "      <th>171</th>\n",
       "      <td>39</td>\n",
       "      <td>5639</td>\n",
       "      <td>0.091205</td>\n",
       "      <td>NaN</td>\n",
       "      <td>NaN</td>\n",
       "    </tr>\n",
       "    <tr>\n",
       "      <th>172</th>\n",
       "      <td>40</td>\n",
       "      <td>5649</td>\n",
       "      <td>NaN</td>\n",
       "      <td>0.094895</td>\n",
       "      <td>NaN</td>\n",
       "    </tr>\n",
       "    <tr>\n",
       "      <th>173</th>\n",
       "      <td>40</td>\n",
       "      <td>5699</td>\n",
       "      <td>NaN</td>\n",
       "      <td>0.083057</td>\n",
       "      <td>NaN</td>\n",
       "    </tr>\n",
       "    <tr>\n",
       "      <th>174</th>\n",
       "      <td>40</td>\n",
       "      <td>5749</td>\n",
       "      <td>NaN</td>\n",
       "      <td>0.080434</td>\n",
       "      <td>NaN</td>\n",
       "    </tr>\n",
       "    <tr>\n",
       "      <th>175</th>\n",
       "      <td>40</td>\n",
       "      <td>5780</td>\n",
       "      <td>0.086650</td>\n",
       "      <td>NaN</td>\n",
       "      <td>NaN</td>\n",
       "    </tr>\n",
       "    <tr>\n",
       "      <th>176</th>\n",
       "      <td>41</td>\n",
       "      <td>5799</td>\n",
       "      <td>NaN</td>\n",
       "      <td>0.094196</td>\n",
       "      <td>NaN</td>\n",
       "    </tr>\n",
       "    <tr>\n",
       "      <th>177</th>\n",
       "      <td>41</td>\n",
       "      <td>5849</td>\n",
       "      <td>NaN</td>\n",
       "      <td>0.083184</td>\n",
       "      <td>NaN</td>\n",
       "    </tr>\n",
       "    <tr>\n",
       "      <th>178</th>\n",
       "      <td>41</td>\n",
       "      <td>5899</td>\n",
       "      <td>NaN</td>\n",
       "      <td>0.089263</td>\n",
       "      <td>NaN</td>\n",
       "    </tr>\n",
       "    <tr>\n",
       "      <th>179</th>\n",
       "      <td>41</td>\n",
       "      <td>5921</td>\n",
       "      <td>NaN</td>\n",
       "      <td>NaN</td>\n",
       "      <td>0.096512</td>\n",
       "    </tr>\n",
       "    <tr>\n",
       "      <th>180</th>\n",
       "      <td>41</td>\n",
       "      <td>5921</td>\n",
       "      <td>0.088385</td>\n",
       "      <td>NaN</td>\n",
       "      <td>NaN</td>\n",
       "    </tr>\n",
       "    <tr>\n",
       "      <th>181</th>\n",
       "      <td>42</td>\n",
       "      <td>5949</td>\n",
       "      <td>NaN</td>\n",
       "      <td>0.101817</td>\n",
       "      <td>NaN</td>\n",
       "    </tr>\n",
       "    <tr>\n",
       "      <th>182</th>\n",
       "      <td>42</td>\n",
       "      <td>5999</td>\n",
       "      <td>NaN</td>\n",
       "      <td>0.089241</td>\n",
       "      <td>NaN</td>\n",
       "    </tr>\n",
       "    <tr>\n",
       "      <th>183</th>\n",
       "      <td>42</td>\n",
       "      <td>6049</td>\n",
       "      <td>NaN</td>\n",
       "      <td>0.082715</td>\n",
       "      <td>NaN</td>\n",
       "    </tr>\n",
       "    <tr>\n",
       "      <th>184</th>\n",
       "      <td>42</td>\n",
       "      <td>6062</td>\n",
       "      <td>0.092194</td>\n",
       "      <td>NaN</td>\n",
       "      <td>NaN</td>\n",
       "    </tr>\n",
       "    <tr>\n",
       "      <th>185</th>\n",
       "      <td>43</td>\n",
       "      <td>6099</td>\n",
       "      <td>NaN</td>\n",
       "      <td>0.091980</td>\n",
       "      <td>NaN</td>\n",
       "    </tr>\n",
       "  </tbody>\n",
       "</table>\n",
       "</div>"
      ],
      "text/plain": [
       "     epoch  step  training RMSE loss_epoch  training RMSE loss_step  \\\n",
       "166     38  5498                  0.100563                      NaN   \n",
       "167     39  5499                       NaN                 0.089106   \n",
       "168     39  5549                       NaN                 0.089781   \n",
       "169     39  5599                       NaN                 0.088514   \n",
       "170     39  5639                       NaN                      NaN   \n",
       "171     39  5639                  0.091205                      NaN   \n",
       "172     40  5649                       NaN                 0.094895   \n",
       "173     40  5699                       NaN                 0.083057   \n",
       "174     40  5749                       NaN                 0.080434   \n",
       "175     40  5780                  0.086650                      NaN   \n",
       "176     41  5799                       NaN                 0.094196   \n",
       "177     41  5849                       NaN                 0.083184   \n",
       "178     41  5899                       NaN                 0.089263   \n",
       "179     41  5921                       NaN                      NaN   \n",
       "180     41  5921                  0.088385                      NaN   \n",
       "181     42  5949                       NaN                 0.101817   \n",
       "182     42  5999                       NaN                 0.089241   \n",
       "183     42  6049                       NaN                 0.082715   \n",
       "184     42  6062                  0.092194                      NaN   \n",
       "185     43  6099                       NaN                 0.091980   \n",
       "\n",
       "     val RMSE loss  \n",
       "166            NaN  \n",
       "167            NaN  \n",
       "168            NaN  \n",
       "169            NaN  \n",
       "170       0.097712  \n",
       "171            NaN  \n",
       "172            NaN  \n",
       "173            NaN  \n",
       "174            NaN  \n",
       "175            NaN  \n",
       "176            NaN  \n",
       "177            NaN  \n",
       "178            NaN  \n",
       "179       0.096512  \n",
       "180            NaN  \n",
       "181            NaN  \n",
       "182            NaN  \n",
       "183            NaN  \n",
       "184            NaN  \n",
       "185            NaN  "
      ]
     },
     "execution_count": 389,
     "metadata": {},
     "output_type": "execute_result"
    }
   ],
   "source": [
    "table.tail(20)"
   ]
  },
  {
   "cell_type": "markdown",
   "metadata": {},
   "source": []
  },
  {
   "cell_type": "markdown",
   "metadata": {},
   "source": []
  },
  {
   "cell_type": "markdown",
   "metadata": {},
   "source": [
    "### Review NYISO metrics"
   ]
  },
  {
   "cell_type": "code",
   "execution_count": null,
   "metadata": {},
   "outputs": [],
   "source": [
    "\n"
   ]
  },
  {
   "cell_type": "code",
   "execution_count": null,
   "metadata": {},
   "outputs": [],
   "source": []
  },
  {
   "cell_type": "code",
   "execution_count": null,
   "metadata": {},
   "outputs": [],
   "source": []
  },
  {
   "cell_type": "code",
   "execution_count": 52,
   "metadata": {},
   "outputs": [
    {
     "data": {
      "text/plain": [
       "48.0"
      ]
     },
     "execution_count": 52,
     "metadata": {},
     "output_type": "execute_result"
    }
   ],
   "source": [
    "import pandas as pd\n",
    "import numpy as np\n",
    "t0=pd.Timestamp('2020-1-3 13:00')\n",
    "t1 = pd.Timestamp('2020-1-5 13:00')\n",
    "dt = t1-t0\n",
    "dt/np.timedelta64(1,'h')"
   ]
  },
  {
   "cell_type": "code",
   "execution_count": null,
   "metadata": {},
   "outputs": [],
   "source": []
  }
 ],
 "metadata": {
  "kernelspec": {
   "display_name": "energy",
   "language": "python",
   "name": "python3"
  },
  "language_info": {
   "codemirror_mode": {
    "name": "ipython",
    "version": 3
   },
   "file_extension": ".py",
   "mimetype": "text/x-python",
   "name": "python",
   "nbconvert_exporter": "python",
   "pygments_lexer": "ipython3",
   "version": "3.9.19"
  }
 },
 "nbformat": 4,
 "nbformat_minor": 2
}
