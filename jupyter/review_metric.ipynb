{
 "cells": [
  {
   "cell_type": "markdown",
   "metadata": {},
   "source": [
    "### Review metrics from CSV loggers"
   ]
  },
  {
   "cell_type": "code",
   "execution_count": 1,
   "metadata": {},
   "outputs": [],
   "source": [
    "import os.path as osp\n",
    "import os\n",
    "import pandas as pd\n",
    "\n",
    "\n",
    "os.chdir('/Users/limingzhou/zhoul/work/energy/pytools')\n",
    "\n",
    "from pytools.config import Config\n"
   ]
  },
  {
   "cell_type": "markdown",
   "metadata": {},
   "source": [
    "Tensorboard review\n",
    "tensorboard --logdir /Users/limingzhou/zhoul/work/energy/sites/albany-prod/model/tensorboard_logger"
   ]
  },
  {
   "cell_type": "code",
   "execution_count": 87,
   "metadata": {},
   "outputs": [
    {
     "name": "stdout",
     "output_type": "stream",
     "text": [
      "the latest version is 62\n"
     ]
    },
    {
     "data": {
      "text/plain": [
       "11"
      ]
     },
     "execution_count": 87,
     "metadata": {},
     "output_type": "execute_result"
    }
   ],
   "source": [
    "# load all file names in the log folder. find the latest version.\n",
    "#!ls ../pytools/pytools\n",
    "config = Config('../pytools/pytools/config/albany_prod.toml')\n",
    "log_folder = osp.join(config.site_parent_folder, 'model','csv_logger')\n",
    "\n",
    "sub_dir = [x[0] for x in os.walk(log_folder)]\n",
    "\n",
    "vers = [(f, int(f.split('/')[-1].split('_')[-1])) for f in sub_dir if f.split('/')[-1].startswith('version')]\n",
    "\n",
    "fn, ver = zip(*vers)\n",
    "max_ver = max(ver)\n",
    "ind = ver.index(max_ver)\n",
    "print(f'the latest version is {max_ver}')\n",
    "fn_last = fn[ind]\n",
    "table = pd.read_csv(osp.join(fn_last,'metrics.csv'))\n",
    "11"
   ]
  },
  {
   "cell_type": "code",
   "execution_count": 88,
   "metadata": {},
   "outputs": [
    {
     "data": {
      "text/html": [
       "<div>\n",
       "<style scoped>\n",
       "    .dataframe tbody tr th:only-of-type {\n",
       "        vertical-align: middle;\n",
       "    }\n",
       "\n",
       "    .dataframe tbody tr th {\n",
       "        vertical-align: top;\n",
       "    }\n",
       "\n",
       "    .dataframe thead th {\n",
       "        text-align: right;\n",
       "    }\n",
       "</style>\n",
       "<table border=\"1\" class=\"dataframe\">\n",
       "  <thead>\n",
       "    <tr style=\"text-align: right;\">\n",
       "      <th></th>\n",
       "      <th>epoch</th>\n",
       "      <th>step</th>\n",
       "      <th>training RMSE loss_epoch</th>\n",
       "      <th>training RMSE loss_step</th>\n",
       "      <th>val RMSE loss</th>\n",
       "    </tr>\n",
       "  </thead>\n",
       "  <tbody>\n",
       "    <tr>\n",
       "      <th>50</th>\n",
       "      <td>10</td>\n",
       "      <td>1549</td>\n",
       "      <td>NaN</td>\n",
       "      <td>0.204275</td>\n",
       "      <td>NaN</td>\n",
       "    </tr>\n",
       "    <tr>\n",
       "      <th>51</th>\n",
       "      <td>10</td>\n",
       "      <td>1550</td>\n",
       "      <td>NaN</td>\n",
       "      <td>NaN</td>\n",
       "      <td>0.231917</td>\n",
       "    </tr>\n",
       "    <tr>\n",
       "      <th>52</th>\n",
       "      <td>10</td>\n",
       "      <td>1550</td>\n",
       "      <td>0.220292</td>\n",
       "      <td>NaN</td>\n",
       "      <td>NaN</td>\n",
       "    </tr>\n",
       "    <tr>\n",
       "      <th>53</th>\n",
       "      <td>11</td>\n",
       "      <td>1599</td>\n",
       "      <td>NaN</td>\n",
       "      <td>0.204177</td>\n",
       "      <td>NaN</td>\n",
       "    </tr>\n",
       "    <tr>\n",
       "      <th>54</th>\n",
       "      <td>11</td>\n",
       "      <td>1649</td>\n",
       "      <td>NaN</td>\n",
       "      <td>0.196136</td>\n",
       "      <td>NaN</td>\n",
       "    </tr>\n",
       "    <tr>\n",
       "      <th>55</th>\n",
       "      <td>11</td>\n",
       "      <td>1691</td>\n",
       "      <td>NaN</td>\n",
       "      <td>NaN</td>\n",
       "      <td>0.226482</td>\n",
       "    </tr>\n",
       "    <tr>\n",
       "      <th>56</th>\n",
       "      <td>11</td>\n",
       "      <td>1691</td>\n",
       "      <td>0.221689</td>\n",
       "      <td>NaN</td>\n",
       "      <td>NaN</td>\n",
       "    </tr>\n",
       "    <tr>\n",
       "      <th>57</th>\n",
       "      <td>12</td>\n",
       "      <td>1699</td>\n",
       "      <td>NaN</td>\n",
       "      <td>0.268762</td>\n",
       "      <td>NaN</td>\n",
       "    </tr>\n",
       "    <tr>\n",
       "      <th>58</th>\n",
       "      <td>12</td>\n",
       "      <td>1749</td>\n",
       "      <td>NaN</td>\n",
       "      <td>0.194768</td>\n",
       "      <td>NaN</td>\n",
       "    </tr>\n",
       "    <tr>\n",
       "      <th>59</th>\n",
       "      <td>12</td>\n",
       "      <td>1799</td>\n",
       "      <td>NaN</td>\n",
       "      <td>0.210384</td>\n",
       "      <td>NaN</td>\n",
       "    </tr>\n",
       "    <tr>\n",
       "      <th>60</th>\n",
       "      <td>12</td>\n",
       "      <td>1832</td>\n",
       "      <td>NaN</td>\n",
       "      <td>NaN</td>\n",
       "      <td>0.222167</td>\n",
       "    </tr>\n",
       "    <tr>\n",
       "      <th>61</th>\n",
       "      <td>12</td>\n",
       "      <td>1832</td>\n",
       "      <td>0.211560</td>\n",
       "      <td>NaN</td>\n",
       "      <td>NaN</td>\n",
       "    </tr>\n",
       "    <tr>\n",
       "      <th>62</th>\n",
       "      <td>13</td>\n",
       "      <td>1849</td>\n",
       "      <td>NaN</td>\n",
       "      <td>0.201285</td>\n",
       "      <td>NaN</td>\n",
       "    </tr>\n",
       "    <tr>\n",
       "      <th>63</th>\n",
       "      <td>13</td>\n",
       "      <td>1899</td>\n",
       "      <td>NaN</td>\n",
       "      <td>0.174698</td>\n",
       "      <td>NaN</td>\n",
       "    </tr>\n",
       "    <tr>\n",
       "      <th>64</th>\n",
       "      <td>13</td>\n",
       "      <td>1949</td>\n",
       "      <td>NaN</td>\n",
       "      <td>0.243401</td>\n",
       "      <td>NaN</td>\n",
       "    </tr>\n",
       "    <tr>\n",
       "      <th>65</th>\n",
       "      <td>13</td>\n",
       "      <td>1973</td>\n",
       "      <td>NaN</td>\n",
       "      <td>NaN</td>\n",
       "      <td>0.213935</td>\n",
       "    </tr>\n",
       "    <tr>\n",
       "      <th>66</th>\n",
       "      <td>13</td>\n",
       "      <td>1973</td>\n",
       "      <td>0.205673</td>\n",
       "      <td>NaN</td>\n",
       "      <td>NaN</td>\n",
       "    </tr>\n",
       "    <tr>\n",
       "      <th>67</th>\n",
       "      <td>14</td>\n",
       "      <td>1999</td>\n",
       "      <td>NaN</td>\n",
       "      <td>0.226276</td>\n",
       "      <td>NaN</td>\n",
       "    </tr>\n",
       "    <tr>\n",
       "      <th>68</th>\n",
       "      <td>14</td>\n",
       "      <td>2049</td>\n",
       "      <td>NaN</td>\n",
       "      <td>0.205068</td>\n",
       "      <td>NaN</td>\n",
       "    </tr>\n",
       "    <tr>\n",
       "      <th>69</th>\n",
       "      <td>14</td>\n",
       "      <td>2099</td>\n",
       "      <td>NaN</td>\n",
       "      <td>0.181613</td>\n",
       "      <td>NaN</td>\n",
       "    </tr>\n",
       "  </tbody>\n",
       "</table>\n",
       "</div>"
      ],
      "text/plain": [
       "    epoch  step  training RMSE loss_epoch  training RMSE loss_step  \\\n",
       "50     10  1549                       NaN                 0.204275   \n",
       "51     10  1550                       NaN                      NaN   \n",
       "52     10  1550                  0.220292                      NaN   \n",
       "53     11  1599                       NaN                 0.204177   \n",
       "54     11  1649                       NaN                 0.196136   \n",
       "55     11  1691                       NaN                      NaN   \n",
       "56     11  1691                  0.221689                      NaN   \n",
       "57     12  1699                       NaN                 0.268762   \n",
       "58     12  1749                       NaN                 0.194768   \n",
       "59     12  1799                       NaN                 0.210384   \n",
       "60     12  1832                       NaN                      NaN   \n",
       "61     12  1832                  0.211560                      NaN   \n",
       "62     13  1849                       NaN                 0.201285   \n",
       "63     13  1899                       NaN                 0.174698   \n",
       "64     13  1949                       NaN                 0.243401   \n",
       "65     13  1973                       NaN                      NaN   \n",
       "66     13  1973                  0.205673                      NaN   \n",
       "67     14  1999                       NaN                 0.226276   \n",
       "68     14  2049                       NaN                 0.205068   \n",
       "69     14  2099                       NaN                 0.181613   \n",
       "\n",
       "    val RMSE loss  \n",
       "50            NaN  \n",
       "51       0.231917  \n",
       "52            NaN  \n",
       "53            NaN  \n",
       "54            NaN  \n",
       "55       0.226482  \n",
       "56            NaN  \n",
       "57            NaN  \n",
       "58            NaN  \n",
       "59            NaN  \n",
       "60       0.222167  \n",
       "61            NaN  \n",
       "62            NaN  \n",
       "63            NaN  \n",
       "64            NaN  \n",
       "65       0.213935  \n",
       "66            NaN  \n",
       "67            NaN  \n",
       "68            NaN  \n",
       "69            NaN  "
      ]
     },
     "execution_count": 88,
     "metadata": {},
     "output_type": "execute_result"
    }
   ],
   "source": [
    "table.tail(20)"
   ]
  },
  {
   "cell_type": "markdown",
   "metadata": {},
   "source": []
  },
  {
   "cell_type": "markdown",
   "metadata": {},
   "source": []
  },
  {
   "cell_type": "markdown",
   "metadata": {},
   "source": []
  },
  {
   "cell_type": "markdown",
   "metadata": {},
   "source": [
    "### Review NYISO metrics"
   ]
  },
  {
   "cell_type": "code",
   "execution_count": null,
   "metadata": {},
   "outputs": [],
   "source": [
    "\n"
   ]
  },
  {
   "cell_type": "code",
   "execution_count": null,
   "metadata": {},
   "outputs": [],
   "source": []
  },
  {
   "cell_type": "code",
   "execution_count": null,
   "metadata": {},
   "outputs": [],
   "source": []
  },
  {
   "cell_type": "code",
   "execution_count": 52,
   "metadata": {},
   "outputs": [
    {
     "data": {
      "text/plain": [
       "48.0"
      ]
     },
     "execution_count": 52,
     "metadata": {},
     "output_type": "execute_result"
    }
   ],
   "source": [
    "import pandas as pd\n",
    "import numpy as np\n",
    "t0=pd.Timestamp('2020-1-3 13:00')\n",
    "t1 = pd.Timestamp('2020-1-5 13:00')\n",
    "dt = t1-t0\n",
    "dt/np.timedelta64(1,'h')"
   ]
  },
  {
   "cell_type": "code",
   "execution_count": null,
   "metadata": {},
   "outputs": [],
   "source": []
  }
 ],
 "metadata": {
  "kernelspec": {
   "display_name": "energy",
   "language": "python",
   "name": "python3"
  },
  "language_info": {
   "codemirror_mode": {
    "name": "ipython",
    "version": 3
   },
   "file_extension": ".py",
   "mimetype": "text/x-python",
   "name": "python",
   "nbconvert_exporter": "python",
   "pygments_lexer": "ipython3",
   "version": "3.9.19"
  }
 },
 "nbformat": 4,
 "nbformat_minor": 2
}
