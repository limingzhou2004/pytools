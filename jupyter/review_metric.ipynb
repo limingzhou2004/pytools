{
 "cells": [
  {
   "cell_type": "markdown",
   "metadata": {},
   "source": [
    "### Review metrics from CSV loggers"
   ]
  },
  {
   "cell_type": "code",
   "execution_count": 10,
   "metadata": {},
   "outputs": [],
   "source": [
    "import os.path as osp\n",
    "import os\n",
    "import pandas as pd\n",
    "\n",
    "\n",
    "os.chdir('/Users/limingzhou/zhoul/work/energy/pytools')\n",
    "\n",
    "from pytools.config import Config\n"
   ]
  },
  {
   "cell_type": "code",
   "execution_count": 53,
   "metadata": {},
   "outputs": [
    {
     "name": "stdout",
     "output_type": "stream",
     "text": [
      "the latest version is 19\n"
     ]
    }
   ],
   "source": [
    "# load all file names in the log folder. find the latest version.\n",
    "#!ls ../pytools/pytools\n",
    "config = Config('../pytools/pytools/config/albany_test.toml')\n",
    "log_folder = osp.join(config.site_parent_folder, 'model','csv_logger')\n",
    "\n",
    "sub_dir = [x[0] for x in os.walk(log_folder)]\n",
    "\n",
    "vers = [(f, int(f.split('/')[-1].split('_')[-1])) for f in sub_dir if f.split('/')[-1].startswith('version')]\n",
    "\n",
    "fn, ver = zip(*vers)\n",
    "max_ver = max(ver)\n",
    "ind = ver.index(max_ver)\n",
    "print(f'the latest version is {max_ver}')\n",
    "fn_last = fn[ind]\n",
    "table = pd.read_csv(osp.join(fn_last,'metrics.csv'))\n"
   ]
  },
  {
   "cell_type": "code",
   "execution_count": 54,
   "metadata": {},
   "outputs": [
    {
     "data": {
      "text/html": [
       "<div>\n",
       "<style scoped>\n",
       "    .dataframe tbody tr th:only-of-type {\n",
       "        vertical-align: middle;\n",
       "    }\n",
       "\n",
       "    .dataframe tbody tr th {\n",
       "        vertical-align: top;\n",
       "    }\n",
       "\n",
       "    .dataframe thead th {\n",
       "        text-align: right;\n",
       "    }\n",
       "</style>\n",
       "<table border=\"1\" class=\"dataframe\">\n",
       "  <thead>\n",
       "    <tr style=\"text-align: right;\">\n",
       "      <th></th>\n",
       "      <th>abs_loss(MAE)</th>\n",
       "      <th>epoch</th>\n",
       "      <th>relative_loss(RMAE)</th>\n",
       "      <th>step</th>\n",
       "      <th>test RSME loss</th>\n",
       "      <th>training RMSE loss_epoch</th>\n",
       "      <th>val RSME loss</th>\n",
       "      <th>y_mean</th>\n",
       "    </tr>\n",
       "  </thead>\n",
       "  <tbody>\n",
       "    <tr>\n",
       "      <th>0</th>\n",
       "      <td>NaN</td>\n",
       "      <td>0</td>\n",
       "      <td>NaN</td>\n",
       "      <td>9</td>\n",
       "      <td>NaN</td>\n",
       "      <td>NaN</td>\n",
       "      <td>0.402838</td>\n",
       "      <td>NaN</td>\n",
       "    </tr>\n",
       "    <tr>\n",
       "      <th>1</th>\n",
       "      <td>NaN</td>\n",
       "      <td>0</td>\n",
       "      <td>NaN</td>\n",
       "      <td>9</td>\n",
       "      <td>NaN</td>\n",
       "      <td>0.167234</td>\n",
       "      <td>NaN</td>\n",
       "      <td>NaN</td>\n",
       "    </tr>\n",
       "    <tr>\n",
       "      <th>2</th>\n",
       "      <td>NaN</td>\n",
       "      <td>1</td>\n",
       "      <td>NaN</td>\n",
       "      <td>19</td>\n",
       "      <td>NaN</td>\n",
       "      <td>NaN</td>\n",
       "      <td>0.402566</td>\n",
       "      <td>NaN</td>\n",
       "    </tr>\n",
       "    <tr>\n",
       "      <th>3</th>\n",
       "      <td>NaN</td>\n",
       "      <td>1</td>\n",
       "      <td>NaN</td>\n",
       "      <td>19</td>\n",
       "      <td>NaN</td>\n",
       "      <td>0.166208</td>\n",
       "      <td>NaN</td>\n",
       "      <td>NaN</td>\n",
       "    </tr>\n",
       "    <tr>\n",
       "      <th>4</th>\n",
       "      <td>1086.006226</td>\n",
       "      <td>2</td>\n",
       "      <td>0.900672</td>\n",
       "      <td>20</td>\n",
       "      <td>0.179788</td>\n",
       "      <td>NaN</td>\n",
       "      <td>NaN</td>\n",
       "      <td>1205.773315</td>\n",
       "    </tr>\n",
       "  </tbody>\n",
       "</table>\n",
       "</div>"
      ],
      "text/plain": [
       "   abs_loss(MAE)  epoch  relative_loss(RMAE)  step  test RSME loss  \\\n",
       "0            NaN      0                  NaN     9             NaN   \n",
       "1            NaN      0                  NaN     9             NaN   \n",
       "2            NaN      1                  NaN    19             NaN   \n",
       "3            NaN      1                  NaN    19             NaN   \n",
       "4    1086.006226      2             0.900672    20        0.179788   \n",
       "\n",
       "   training RMSE loss_epoch  val RSME loss       y_mean  \n",
       "0                       NaN       0.402838          NaN  \n",
       "1                  0.167234            NaN          NaN  \n",
       "2                       NaN       0.402566          NaN  \n",
       "3                  0.166208            NaN          NaN  \n",
       "4                       NaN            NaN  1205.773315  "
      ]
     },
     "execution_count": 54,
     "metadata": {},
     "output_type": "execute_result"
    }
   ],
   "source": [
    "table"
   ]
  },
  {
   "cell_type": "markdown",
   "metadata": {},
   "source": []
  },
  {
   "cell_type": "markdown",
   "metadata": {},
   "source": [
    "### Review NYISO metrics"
   ]
  },
  {
   "cell_type": "code",
   "execution_count": null,
   "metadata": {},
   "outputs": [],
   "source": [
    "\n"
   ]
  },
  {
   "cell_type": "code",
   "execution_count": null,
   "metadata": {},
   "outputs": [],
   "source": []
  },
  {
   "cell_type": "code",
   "execution_count": null,
   "metadata": {},
   "outputs": [],
   "source": []
  },
  {
   "cell_type": "code",
   "execution_count": null,
   "metadata": {},
   "outputs": [],
   "source": []
  },
  {
   "cell_type": "code",
   "execution_count": null,
   "metadata": {},
   "outputs": [],
   "source": []
  }
 ],
 "metadata": {
  "kernelspec": {
   "display_name": "energy",
   "language": "python",
   "name": "python3"
  },
  "language_info": {
   "codemirror_mode": {
    "name": "ipython",
    "version": 3
   },
   "file_extension": ".py",
   "mimetype": "text/x-python",
   "name": "python",
   "nbconvert_exporter": "python",
   "pygments_lexer": "ipython3",
   "version": "3.9.19"
  }
 },
 "nbformat": 4,
 "nbformat_minor": 2
}
